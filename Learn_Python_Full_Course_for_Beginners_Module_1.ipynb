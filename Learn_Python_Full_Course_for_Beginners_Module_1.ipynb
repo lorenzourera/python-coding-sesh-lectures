{
  "nbformat": 4,
  "nbformat_minor": 0,
  "metadata": {
    "colab": {
      "provenance": [],
      "collapsed_sections": [
        "cN_gNADbk78Q"
      ]
    },
    "kernelspec": {
      "name": "python3",
      "display_name": "Python 3"
    }
  },
  "cells": [
    {
      "cell_type": "markdown",
      "metadata": {
        "id": "gw97-pqMXa7v"
      },
      "source": [
        "# Learn Python - Full Course for Beginners  \n",
        "\n",
        "Note: If this is your first time using Google Colab as a development environment, check out this intro: https://colab.research.google.com/notebooks/intro.ipynb\n",
        "\n",
        "Content References \n",
        "* https://youtu.be/rfscVS0vtbw  \n",
        "* Python String Methods: https://www.w3schools.com/python/python_ref_string.asp \n",
        "* Python Math Functions: https://docs.python.org/3/library/math.html \n",
        "* Google Colab Keyboard Shortcuts: https://colab.research.google.com/github/jakevdp/PythonDataScienceHandbook/blob/master/notebooks/01.02-Shell-Keyboard-Shortcuts.ipynb\n",
        "\n",
        "### Module 1 \n",
        "\n",
        "* Hello World\n",
        "* Drawing a Shape\n",
        "* Variables & Data Types\n",
        "* Working With Strings\n",
        "* Working With Numbers\n",
        "* Getting Input From Users\n",
        "* Building a Basic Calculator\n"
      ]
    },
    {
      "cell_type": "markdown",
      "metadata": {
        "id": "LuNrI75qXwnr"
      },
      "source": [
        "### 1.1 Hello World"
      ]
    },
    {
      "cell_type": "code",
      "metadata": {
        "id": "uEJlIV0tZQaP",
        "outputId": "dc654048-3cd7-4fc2-9e38-25d24e70f32b",
        "colab": {
          "base_uri": "https://localhost:8080/",
          "height": 34
        }
      },
      "source": [
        "print(\"Hello World\")"
      ],
      "execution_count": null,
      "outputs": [
        {
          "output_type": "stream",
          "text": [
            "Hello World\n"
          ],
          "name": "stdout"
        }
      ]
    },
    {
      "cell_type": "markdown",
      "metadata": {
        "id": "YDaZSde2ZlTb"
      },
      "source": [
        "* Print statements are used to output whatever is placed between the parenthese '()'  \n",
        "* They can be expressed in terms of raw characters (strings) such as 'Hello World'  \n",
        "* But they can also be used to print the value of variables as seen below."
      ]
    },
    {
      "cell_type": "code",
      "metadata": {
        "id": "o-0qnMD0cSJQ",
        "outputId": "8a6c2762-9bd4-404b-fa84-5720dfec50b0",
        "colab": {
          "base_uri": "https://localhost:8080/",
          "height": 34
        }
      },
      "source": [
        "# Declaring a variable \n",
        "message = 'Hello World' \n",
        "\n",
        "# Printing the variable 'message'\n",
        "print(message) "
      ],
      "execution_count": null,
      "outputs": [
        {
          "output_type": "stream",
          "text": [
            "Hello World\n"
          ],
          "name": "stdout"
        }
      ]
    },
    {
      "cell_type": "markdown",
      "metadata": {
        "id": "3C-uuRQFcj1A"
      },
      "source": [
        "* When printing variables, there is no need to place the variable name inbetween \" \" or ' ' (These can be used interchangeably when dealing with strings).  \n",
        "* In this case, we declared a variable that containts a string ('Hello World'). Instead of directly printing a string, we print the __variable message__ which containts the string 'Hello World' \n",
        "\n",
        "\n",
        "* When python runs your program, __it executes each line in the exact sequence that is written__. If you were to print the variable __message__ before declaring the value of the variable, you would get an error.\n",
        "\n",
        "* It programming, it is a good practice to add notes about what your code is doing. This can be done using the pound sign __#__ . This tells python not to run anything after the __#__ on a single line. This means that whatever is written after the pound sign is only seen in the code, but not the output."
      ]
    },
    {
      "cell_type": "markdown",
      "metadata": {
        "id": "MZ54KbSBZSgx"
      },
      "source": [
        "### 1.2 Drawing A Shape"
      ]
    },
    {
      "cell_type": "code",
      "metadata": {
        "id": "XmFUIpSYZfgg",
        "outputId": "63d5725d-22b1-4ec8-cb98-58cbad766bbe",
        "colab": {
          "base_uri": "https://localhost:8080/",
          "height": 85
        }
      },
      "source": [
        "print(\"    /|\") \n",
        "print(\"   / |\")  \n",
        "print(\"  /  |\") \n",
        "print(\" /___|\")\n"
      ],
      "execution_count": null,
      "outputs": [
        {
          "output_type": "stream",
          "text": [
            "    /|\n",
            "   / |\n",
            "  /  |\n",
            " /___|\n"
          ],
          "name": "stdout"
        }
      ]
    },
    {
      "cell_type": "markdown",
      "metadata": {
        "id": "JrYD_CQVcznk"
      },
      "source": [
        "* As you can see, printing strings allows you to literally print whatever you type in your keyboard, but keep note that all strings must be placed between single (' ') or double (\" \") quotation marks. \n",
        "\n",
        "* When python runs your program, it executes each line in the exact sequence that is written."
      ]
    },
    {
      "cell_type": "markdown",
      "metadata": {
        "id": "O4_za0HZdHeB"
      },
      "source": [
        "## 1.3  Working with Variables and Variable Types \n",
        "\n"
      ]
    },
    {
      "cell_type": "markdown",
      "metadata": {
        "id": "-qZQxJzBdS88"
      },
      "source": [
        "### Strings\n",
        "\n",
        "#### Let us tell a simple story using the print statement"
      ]
    },
    {
      "cell_type": "code",
      "metadata": {
        "id": "SRzwbKXxfVJI",
        "outputId": "5af449fa-6aa6-4bed-e403-de9779cb3ae8",
        "colab": {
          "base_uri": "https://localhost:8080/",
          "height": 85
        }
      },
      "source": [
        "print(\"There once was a man named George, \") \n",
        "print(\"he was 70 years old. \") \n",
        "print(\"He really liked the name George, \") \n",
        "print(\"but didn't like being 70.\")"
      ],
      "execution_count": null,
      "outputs": [
        {
          "output_type": "stream",
          "text": [
            "There once was a man named George, \n",
            "he was 70 years old. \n",
            "He really liked the name George, \n",
            "but didn't like being 70.\n"
          ],
          "name": "stdout"
        }
      ]
    },
    {
      "cell_type": "markdown",
      "metadata": {
        "id": "UXwvxtwpff24"
      },
      "source": [
        "Alternatively, you can also make use of the \"\"\" (triple quotation) if you want to print multiple lines of strings without using multiple __print()__ statements"
      ]
    },
    {
      "cell_type": "code",
      "metadata": {
        "id": "rNBCxPfmf3nE",
        "outputId": "86df7c6d-3cca-4b4e-e215-4a1c3ac7ddbf",
        "colab": {
          "base_uri": "https://localhost:8080/",
          "height": 119
        }
      },
      "source": [
        "print(\"\"\" \n",
        "There was once a man named George, \n",
        "he was 70 years old. \n",
        "He really liked the name George, \n",
        "but didn't like being 70.\n",
        "\"\"\")"
      ],
      "execution_count": null,
      "outputs": [
        {
          "output_type": "stream",
          "text": [
            " \n",
            "There was once a man named George, \n",
            "he was 70 years old. \n",
            "He really liked the name George, \n",
            "but didn't like being 70.\n",
            "\n"
          ],
          "name": "stdout"
        }
      ]
    },
    {
      "cell_type": "markdown",
      "metadata": {
        "id": "MIJFXkRhf-8d"
      },
      "source": [
        "* This is a nice story, but what if I wanted to be able to change the name of the \n",
        "character (e.g John or Mike) , or his characteristics (i.e change his age to 25) ?  \n",
        "* I could do that manually by editing the strings as seen in the code below, but doing so would force me to make 4 changes in total"
      ]
    },
    {
      "cell_type": "code",
      "metadata": {
        "id": "x_cfx4OxgH5Z",
        "outputId": "853108fa-eb6e-4a1f-ae1d-640794e538d6",
        "colab": {
          "base_uri": "https://localhost:8080/",
          "height": 119
        }
      },
      "source": [
        "print(\"\"\" \n",
        "There was once a man named John, \n",
        "he was 25 years old. \n",
        "He really liked the name John, \n",
        "but he didn't like being 25 \n",
        "\"\"\")\n",
        "\n"
      ],
      "execution_count": null,
      "outputs": [
        {
          "output_type": "stream",
          "text": [
            " \n",
            "There was once a man named John, \n",
            "he was 25 years old. \n",
            "He really liked the name John, \n",
            "but he didn't like being 25 \n",
            "\n"
          ],
          "name": "stdout"
        }
      ]
    },
    {
      "cell_type": "markdown",
      "metadata": {
        "id": "Q4PiLCnSgwZd"
      },
      "source": [
        "#### Now let us do things more efficiently using variables"
      ]
    },
    {
      "cell_type": "code",
      "metadata": {
        "id": "rzekFSV1g66x",
        "outputId": "08365334-ae40-4ce7-b505-9601fe22961c",
        "colab": {
          "base_uri": "https://localhost:8080/",
          "height": 119
        }
      },
      "source": [
        "# Declare variables \n",
        "character_name = 'mike' \n",
        "character_age = 30 \n",
        "\n",
        "# Tell the story again  \n",
        "print(f\"\"\" \n",
        "There was once  man named {character_name}\n",
        "he was {character_age} years old. \n",
        "He really liked the name {character_name}, \n",
        "but he didn't like being {character_age}\n",
        "\"\"\")"
      ],
      "execution_count": null,
      "outputs": [
        {
          "output_type": "stream",
          "text": [
            " \n",
            "There was once  man named mike\n",
            "he was 30 years old. \n",
            "He really liked the name mike, \n",
            "but he didn't like being 30\n",
            "\n"
          ],
          "name": "stdout"
        }
      ]
    },
    {
      "cell_type": "markdown",
      "metadata": {
        "id": "lpYZWadGha3f"
      },
      "source": [
        "##### The code above just made things much more organized and effficent, but we can do better.  Remember that earlier, we created a variable (or string variable) called 'message' where we stored a string, then printed it instead of retyping the actual message between the print statement. Now let us use the same technique"
      ]
    },
    {
      "cell_type": "code",
      "metadata": {
        "id": "_jjWlyMmh6EJ",
        "outputId": "67e78db6-e11b-4c7d-8de4-d256e7dec347",
        "colab": {
          "base_uri": "https://localhost:8080/",
          "height": 119
        }
      },
      "source": [
        "# Declare Variable \n",
        "character_name = 'John' \n",
        "character_age = 55 \n",
        "\n",
        "# Creating a new string variable called 'story'\n",
        "# When you want to format a string using other variables, we put an f before the first set of quotations, and we enclose the variables we want to reference in between brackets {}\n",
        "story = f\"\"\"  \n",
        "There was once  man named {character_name}\n",
        "he was {character_age} years old. \n",
        "He really liked the name {character_name}, \n",
        "but he didn't like being {character_age} \n",
        "\"\"\"  \n",
        "\n",
        "# Now we tell the story \n",
        "print(story)\n",
        "\n"
      ],
      "execution_count": null,
      "outputs": [
        {
          "output_type": "stream",
          "text": [
            "  \n",
            "There was once  man named John\n",
            "he was 55 years old. \n",
            "He really liked the name John, \n",
            "but he didn't like being 55 \n",
            "\n"
          ],
          "name": "stdout"
        }
      ]
    },
    {
      "cell_type": "markdown",
      "metadata": {
        "id": "rHZHMa-XiQoN"
      },
      "source": [
        "Alternatively, we can also reference variables by \"adding them\" to the strings using __+__. The process of 'stitching' strings together is called __concatenation__."
      ]
    },
    {
      "cell_type": "code",
      "metadata": {
        "id": "_geH94h5l3WG",
        "outputId": "206fbb3d-d2cd-4acf-c5b4-8043ab88b48f",
        "colab": {
          "base_uri": "https://localhost:8080/",
          "height": 51
        }
      },
      "source": [
        "# Example of string concatenation \n",
        "\n",
        "print(\"Hello\" + \" \" + \"World\") \n",
        "\n",
        "# Another Example \n",
        "first_word = \"Hello\" \n",
        "space_bar = \" \" \n",
        "second_word = \"World\" \n",
        "\n",
        "print(first_word + space_bar + second_word)"
      ],
      "execution_count": null,
      "outputs": [
        {
          "output_type": "stream",
          "text": [
            "Hello World\n",
            "Hello World\n"
          ],
          "name": "stdout"
        }
      ]
    },
    {
      "cell_type": "markdown",
      "metadata": {
        "id": "mid543A3mRm7"
      },
      "source": [
        "#### Now let us use the principle of string concatenation and variables to make story telling more efficient."
      ]
    },
    {
      "cell_type": "code",
      "metadata": {
        "id": "3uT7ohP-jhzC",
        "outputId": "a91ec6a5-9c02-42cb-ada9-fa8d2609f76e",
        "colab": {
          "base_uri": "https://localhost:8080/",
          "height": 266
        }
      },
      "source": [
        "# Declare Variable \n",
        "character_name = 'John' \n",
        "character_age = 55 \n",
        "\n",
        "print(\"There once was a man named\" + character_name + \",\") \n",
        "print(\"he was\" + character_age + \"years old. \") \n",
        "print(\"He really liked the name\" + character_name + \", \") \n",
        "print(\"but didn't like being\" + character_age + \".\")  \n"
      ],
      "execution_count": null,
      "outputs": [
        {
          "output_type": "stream",
          "text": [
            "There once was a man namedJohn,\n",
            "ERROR! Session/line number was not unique in database. History logging moved to new session 65\n"
          ],
          "name": "stdout"
        },
        {
          "output_type": "error",
          "ename": "TypeError",
          "evalue": "ignored",
          "traceback": [
            "\u001b[0;31m---------------------------------------------------------------------------\u001b[0m",
            "\u001b[0;31mTypeError\u001b[0m                                 Traceback (most recent call last)",
            "\u001b[0;32m<ipython-input-17-be17951d2f88>\u001b[0m in \u001b[0;36m<module>\u001b[0;34m()\u001b[0m\n\u001b[1;32m      3\u001b[0m \u001b[0;34m\u001b[0m\u001b[0m\n\u001b[1;32m      4\u001b[0m \u001b[0mprint\u001b[0m\u001b[0;34m(\u001b[0m\u001b[0;34m\"There once was a man named\"\u001b[0m \u001b[0;34m+\u001b[0m \u001b[0mcharacter_name\u001b[0m \u001b[0;34m+\u001b[0m \u001b[0;34m\",\"\u001b[0m\u001b[0;34m)\u001b[0m\u001b[0;34m\u001b[0m\u001b[0;34m\u001b[0m\u001b[0m\n\u001b[0;32m----> 5\u001b[0;31m \u001b[0mprint\u001b[0m\u001b[0;34m(\u001b[0m\u001b[0;34m\"he was\"\u001b[0m \u001b[0;34m+\u001b[0m \u001b[0mcharacter_age\u001b[0m \u001b[0;34m+\u001b[0m \u001b[0;34m\"years old. \"\u001b[0m\u001b[0;34m)\u001b[0m\u001b[0;34m\u001b[0m\u001b[0;34m\u001b[0m\u001b[0m\n\u001b[0m\u001b[1;32m      6\u001b[0m \u001b[0mprint\u001b[0m\u001b[0;34m(\u001b[0m\u001b[0;34m\"He really liked the name\"\u001b[0m \u001b[0;34m+\u001b[0m \u001b[0mcharacter_name\u001b[0m \u001b[0;34m+\u001b[0m \u001b[0;34m\", \"\u001b[0m\u001b[0;34m)\u001b[0m\u001b[0;34m\u001b[0m\u001b[0;34m\u001b[0m\u001b[0m\n\u001b[1;32m      7\u001b[0m \u001b[0mprint\u001b[0m\u001b[0;34m(\u001b[0m\u001b[0;34m\"but didn't like being\"\u001b[0m \u001b[0;34m+\u001b[0m \u001b[0mcharacter_age\u001b[0m \u001b[0;34m+\u001b[0m \u001b[0;34m\".\"\u001b[0m\u001b[0;34m)\u001b[0m\u001b[0;34m\u001b[0m\u001b[0;34m\u001b[0m\u001b[0m\n",
            "\u001b[0;31mTypeError\u001b[0m: must be str, not int"
          ]
        }
      ]
    },
    {
      "cell_type": "markdown",
      "metadata": {
        "id": "khjOUz99j-XQ"
      },
      "source": [
        "As you can see, when using __+__ to stitch/concatenate strings together, we get an error because __character_age__ is actually declared as a number or integer. Concatenation only works with variables that are of the __string type__. We can fix this in two ways."
      ]
    },
    {
      "cell_type": "code",
      "metadata": {
        "id": "cGeoaIbekdKP",
        "outputId": "ed4798b5-5d68-44ff-bbcd-66386b0d2c8d",
        "colab": {
          "base_uri": "https://localhost:8080/",
          "height": 85
        }
      },
      "source": [
        "# Solution 1 ,  we declare the age as a string using the str()\n",
        "\n",
        "# Declare Variable \n",
        "character_name = 'John'  \n",
        "\n",
        "\n",
        "character_age = str(55)\n",
        "\n",
        "print(\"There once was a man named\" + character_name + \",\") \n",
        "print(\"he was \" + character_age + \" years old. \") \n",
        "print(\"He really liked the name\" + character_name + \", \") \n",
        "print(\"but didn't like being\" + character_age + \".\")  \n"
      ],
      "execution_count": null,
      "outputs": [
        {
          "output_type": "stream",
          "text": [
            "There once was a man namedJohn,\n",
            "he was 55 years old. \n",
            "He really liked the nameJohn, \n",
            "but didn't like being55.\n"
          ],
          "name": "stdout"
        }
      ]
    },
    {
      "cell_type": "code",
      "metadata": {
        "id": "cBABfb-7kpWW",
        "outputId": "07b53e5d-190f-48e0-d795-922e76454f5a",
        "colab": {
          "base_uri": "https://localhost:8080/",
          "height": 85
        }
      },
      "source": [
        "# Solution 2, we can convert charactaer_age to a string when we print it\n",
        "\n",
        "# Declare Variable \n",
        "character_name = 'John'  \n",
        "\n",
        "# We declare the age as a string using the str()\n",
        "character_age = 55 \n",
        "\n",
        "print(\"There once was a man named\" + character_name + \",\") \n",
        "print(\"he was \" + str(character_age) + \" years old. \") \n",
        "print(\"He really liked the name\" + character_name + \", \") \n",
        "print(\"but didn't like being \" + str(character_age) + \".\")  "
      ],
      "execution_count": null,
      "outputs": [
        {
          "output_type": "stream",
          "text": [
            "There once was a man namedJohn,\n",
            "he was 55 years old. \n",
            "He really liked the nameJohn, \n",
            "but didn't like being 55.\n"
          ],
          "name": "stdout"
        }
      ]
    },
    {
      "cell_type": "markdown",
      "metadata": {
        "id": "cN_gNADbk78Q"
      },
      "source": [
        "#### Before moving forward, let give a brief overview of using __method (sometimes called functions)__  and how we can use them to manipulate strings \n",
        "\n",
        "* A function/method is essentially a little block of code that we can run to do a simple and specific operation for us. \n",
        "* We can use functions to modify our strings or even get information about our strings. \n",
        "* To use methods/functions we use following syntax           \n",
        "variable_name.__function__\n"
      ]
    },
    {
      "cell_type": "markdown",
      "metadata": {
        "id": "HPT4GiACm2nx"
      },
      "source": [
        "#### Common Functions \n",
        "lower() returns a string but entirely in lowercase.\n",
        "\n"
      ]
    },
    {
      "cell_type": "code",
      "metadata": {
        "id": "VMsO5AwKn_rH",
        "outputId": "42bab246-d591-45e3-cd10-f750cddfaa88",
        "colab": {
          "base_uri": "https://localhost:8080/",
          "height": 34
        }
      },
      "source": [
        "phrase = \"Giraffe Academy\" \n",
        "print(phrase.lower())"
      ],
      "execution_count": null,
      "outputs": [
        {
          "output_type": "stream",
          "text": [
            "giraffe academy\n"
          ],
          "name": "stdout"
        }
      ]
    },
    {
      "cell_type": "markdown",
      "metadata": {
        "id": "gM3ptPv2pDO7"
      },
      "source": [
        "upper() returns a string but entirely in uppercase"
      ]
    },
    {
      "cell_type": "code",
      "metadata": {
        "id": "W2U8WFSupI7G",
        "outputId": "881641de-79b6-4bcd-c2f2-5e6322042a25",
        "colab": {
          "base_uri": "https://localhost:8080/",
          "height": 34
        }
      },
      "source": [
        "phrase = \"Giraffe Academy\" \n",
        "print(phrase.upper())"
      ],
      "execution_count": null,
      "outputs": [
        {
          "output_type": "stream",
          "text": [
            "GIRAFFE ACADEMY\n"
          ],
          "name": "stdout"
        }
      ]
    },
    {
      "cell_type": "markdown",
      "metadata": {
        "id": "sdy6TpEjpOXX"
      },
      "source": [
        "len() counts the number of characters in a string"
      ]
    },
    {
      "cell_type": "code",
      "metadata": {
        "id": "MKpm4XaLpbAI",
        "outputId": "b44befb6-a795-4866-cf49-982dbb64e0ed",
        "colab": {
          "base_uri": "https://localhost:8080/",
          "height": 34
        }
      },
      "source": [
        "phrase = \"Giraffe Academy\" \n",
        "print(len(phrase))"
      ],
      "execution_count": null,
      "outputs": [
        {
          "output_type": "stream",
          "text": [
            "15\n"
          ],
          "name": "stdout"
        }
      ]
    },
    {
      "cell_type": "markdown",
      "metadata": {
        "id": "yR_MI7Zspd4_"
      },
      "source": [
        "We can also grab indvidual characrters in a string \n",
        "* We do this by using a set of brackets __[]__ and we specify the index or the position of the character we want to grab \n",
        "* Note: In python the first position is referenced by the index = 0"
      ]
    },
    {
      "cell_type": "code",
      "metadata": {
        "id": "b4VY3QZSpyqy",
        "outputId": "8f655eb6-ce2e-47b5-e3ed-889949230161",
        "colab": {
          "base_uri": "https://localhost:8080/",
          "height": 34
        }
      },
      "source": [
        "phrase = \"Giraffe Academy\" \n",
        "print(phrase[0])"
      ],
      "execution_count": null,
      "outputs": [
        {
          "output_type": "stream",
          "text": [
            "G\n"
          ],
          "name": "stdout"
        }
      ]
    },
    {
      "cell_type": "code",
      "metadata": {
        "id": "pQzyVy_4p89C",
        "outputId": "99f3c3a1-d6e4-4a96-b76d-0ef17c5f945a",
        "colab": {
          "base_uri": "https://localhost:8080/",
          "height": 34
        }
      },
      "source": [
        "phrase = \"Giraffe Academy\" \n",
        "print(phrase[2])"
      ],
      "execution_count": null,
      "outputs": [
        {
          "output_type": "stream",
          "text": [
            "r\n"
          ],
          "name": "stdout"
        }
      ]
    },
    {
      "cell_type": "markdown",
      "metadata": {
        "id": "hEyiodWZqObW"
      },
      "source": [
        "If we want to grab the _last__ character of a string, we use the index [-1]"
      ]
    },
    {
      "cell_type": "code",
      "metadata": {
        "id": "cro1aFdyqARP",
        "outputId": "608dd96d-b6e7-4bc0-b024-9d0a52864cb2",
        "colab": {
          "base_uri": "https://localhost:8080/",
          "height": 34
        }
      },
      "source": [
        "phrase = \"Giraffe Academy\" \n",
        "print(phrase[-1])"
      ],
      "execution_count": null,
      "outputs": [
        {
          "output_type": "stream",
          "text": [
            "y\n"
          ],
          "name": "stdout"
        }
      ]
    },
    {
      "cell_type": "markdown",
      "metadata": {
        "id": "8Ol2r2A8qMXA"
      },
      "source": [
        "Similarly, what if we want to do the opposite, and we want to know what the index of a character is in a string?  We can do this using the .index() function"
      ]
    },
    {
      "cell_type": "code",
      "metadata": {
        "id": "CdBqJG-Yqcll",
        "outputId": "1ab801a7-57aa-4650-8525-94ae7fd28384",
        "colab": {
          "base_uri": "https://localhost:8080/",
          "height": 34
        }
      },
      "source": [
        "phrase = \"Giraffe Academy\" \n",
        "print(phrase.index(\"G\"))"
      ],
      "execution_count": null,
      "outputs": [
        {
          "output_type": "stream",
          "text": [
            "0\n"
          ],
          "name": "stdout"
        }
      ]
    },
    {
      "cell_type": "code",
      "metadata": {
        "id": "e1Ne3brYqkmZ",
        "outputId": "984796d7-77ef-4071-847b-761c3a92ee17",
        "colab": {
          "base_uri": "https://localhost:8080/",
          "height": 34
        }
      },
      "source": [
        "phrase = \"Giraffe Academy\" \n",
        "print(phrase.index(\"f\"))"
      ],
      "execution_count": null,
      "outputs": [
        {
          "output_type": "stream",
          "text": [
            "4\n"
          ],
          "name": "stdout"
        }
      ]
    },
    {
      "cell_type": "markdown",
      "metadata": {
        "id": "Scu3FR7JqoUH"
      },
      "source": [
        "## Working with Numbers  \n",
        "\n",
        "* Numbers are the most common data types in python programming \n",
        "* Most programs you will be writing will most likely be dealing with numbers\n"
      ]
    },
    {
      "cell_type": "markdown",
      "metadata": {
        "id": "GWJuG4gXrLhD"
      },
      "source": [
        "### Basics of Working with Numbers "
      ]
    },
    {
      "cell_type": "code",
      "metadata": {
        "id": "tVjTaU2DrrpJ",
        "outputId": "7c1d8efd-ef7b-4c5d-ad54-99e5706e23df",
        "colab": {
          "base_uri": "https://localhost:8080/",
          "height": 68
        }
      },
      "source": [
        "# Printing Numbers \n",
        "\n",
        "print(2) \n",
        "\n",
        "# We can also print out decimals \n",
        "\n",
        "print(0.02) \n",
        "\n",
        "# Negative numbers \n",
        "\n",
        "print(-0.2)"
      ],
      "execution_count": null,
      "outputs": [
        {
          "output_type": "stream",
          "text": [
            "2\n",
            "0.02\n",
            "-0.2\n"
          ],
          "name": "stdout"
        }
      ]
    },
    {
      "cell_type": "markdown",
      "metadata": {
        "id": "VldSkhvWrvm4"
      },
      "source": [
        "#### Basic Arithmetic"
      ]
    },
    {
      "cell_type": "code",
      "metadata": {
        "id": "bnajZ3OSr7AA",
        "outputId": "0800eb38-8259-4a79-a7dd-cc5256f6e7a6",
        "colab": {
          "base_uri": "https://localhost:8080/",
          "height": 102
        }
      },
      "source": [
        "# Addition\n",
        "print(10+4)  \n",
        "\n",
        "# Subtraction \n",
        "print(10-4) \n",
        "\n",
        "# Multiplication \n",
        "print(10*4)  \n",
        "\n",
        "# Division  \n",
        "print(10/4) \n",
        "\n",
        "# Getting the remainder \n",
        "print(10%4)\n"
      ],
      "execution_count": null,
      "outputs": [
        {
          "output_type": "stream",
          "text": [
            "14\n",
            "6\n",
            "40\n",
            "2.5\n",
            "2\n"
          ],
          "name": "stdout"
        }
      ]
    },
    {
      "cell_type": "markdown",
      "metadata": {
        "id": "-GoKyaDlsEiA"
      },
      "source": [
        "A neater way to do this is to use variables, like we did earlier when we learned about string variables."
      ]
    },
    {
      "cell_type": "code",
      "metadata": {
        "id": "nQptXRdXsW9Y",
        "outputId": "288f06db-4564-4891-d5b5-6008610cf288",
        "colab": {
          "base_uri": "https://localhost:8080/",
          "height": 102
        }
      },
      "source": [
        "first_number = 10 \n",
        "second_number = 4  \n",
        "\n",
        "# Addition\n",
        "print(first_number + second_number)  \n",
        "\n",
        "# Subtraction \n",
        "print(first_number - second_number) \n",
        "\n",
        "# Multiplication \n",
        "print(first_number * second_number)  \n",
        "\n",
        "# Division  \n",
        "print(first_number/second_number) \n",
        "\n",
        "# Getting the remainder \n",
        "print(first_number % second_number)\n",
        "\n",
        "\n"
      ],
      "execution_count": null,
      "outputs": [
        {
          "output_type": "stream",
          "text": [
            "14\n",
            "6\n",
            "40\n",
            "2.5\n",
            "2\n"
          ],
          "name": "stdout"
        }
      ]
    },
    {
      "cell_type": "markdown",
      "metadata": {
        "id": "vuftYFoksssq"
      },
      "source": [
        "Similarly, we can make new variables to capture the operations, then print these variables"
      ]
    },
    {
      "cell_type": "code",
      "metadata": {
        "id": "1_HhjHBIs0jr",
        "outputId": "873c05d1-f65f-4f78-de61-271857581f1a",
        "colab": {
          "base_uri": "https://localhost:8080/",
          "height": 102
        }
      },
      "source": [
        "# Declare the number variables and their values\n",
        "first_number = 10 \n",
        "second_number = 4  \n",
        "\n",
        "\n",
        "# Create new variables to store the operations\n",
        "sum_of_num = first_number + second_number  \n",
        "difference = first_number - second_number \n",
        "product = first_number * second_number \n",
        "quotient = first_number / second_number \n",
        "remainder = first_number % second_number \n",
        "\n",
        "# Print the answer to each operation\n",
        "print(sum_of_num) \n",
        "print(difference) \n",
        "print(product) \n",
        "print(quotient)\n",
        "print(remainder)"
      ],
      "execution_count": null,
      "outputs": [
        {
          "output_type": "stream",
          "text": [
            "14\n",
            "6\n",
            "40\n",
            "2.5\n",
            "2\n"
          ],
          "name": "stdout"
        }
      ]
    },
    {
      "cell_type": "markdown",
      "metadata": {
        "id": "yVepWZ2wtSvb"
      },
      "source": [
        "### Other things we can do with numbers"
      ]
    },
    {
      "cell_type": "markdown",
      "metadata": {
        "id": "pXcMkoBdtuMg"
      },
      "source": [
        "Converting numbers to strings using __str(number)__"
      ]
    },
    {
      "cell_type": "code",
      "metadata": {
        "id": "0tWjt6fEt2Gy",
        "outputId": "181e40ce-8897-4df2-850b-56b449142a1e",
        "colab": {
          "base_uri": "https://localhost:8080/",
          "height": 34
        }
      },
      "source": [
        "my_num = 5 \n",
        "print(str(my_num))"
      ],
      "execution_count": null,
      "outputs": [
        {
          "output_type": "stream",
          "text": [
            "5\n"
          ],
          "name": "stdout"
        }
      ]
    },
    {
      "cell_type": "markdown",
      "metadata": {
        "id": "DcDALd-Xt5Wk"
      },
      "source": [
        "This comes in handy when you want to print out numbers alongside strings. \n",
        "\n"
      ]
    },
    {
      "cell_type": "code",
      "metadata": {
        "id": "rg58l5reuHKy",
        "outputId": "ffc02036-b661-4630-dfc5-ab7f331a29cd",
        "colab": {
          "base_uri": "https://localhost:8080/",
          "height": 34
        }
      },
      "source": [
        "my_num = 5  \n",
        "\n",
        "# Remember string concatenation ?\n",
        "print(str(my_num) + \" is my number\")"
      ],
      "execution_count": null,
      "outputs": [
        {
          "output_type": "stream",
          "text": [
            "5 is my number\n"
          ],
          "name": "stdout"
        }
      ]
    },
    {
      "cell_type": "markdown",
      "metadata": {
        "id": "3EKwRxbouL1p"
      },
      "source": [
        "### More stuff we can do with numbers"
      ]
    },
    {
      "cell_type": "markdown",
      "metadata": {
        "id": "GlqsCUQ0utSV"
      },
      "source": [
        "__max()__ and __min()__ functions"
      ]
    },
    {
      "cell_type": "code",
      "metadata": {
        "id": "9JXxj2C0ucPK",
        "outputId": "132eb6a8-63aa-4b01-dae5-fb1e818aa3eb",
        "colab": {
          "base_uri": "https://localhost:8080/",
          "height": 51
        }
      },
      "source": [
        "# Getting the max between numbers \n",
        "print(max(4,6)) \n",
        "\n",
        "# Getting the min between numbers \n",
        "print(min(4,6))"
      ],
      "execution_count": null,
      "outputs": [
        {
          "output_type": "stream",
          "text": [
            "6\n",
            "4\n"
          ],
          "name": "stdout"
        }
      ]
    },
    {
      "cell_type": "markdown",
      "metadata": {
        "id": "OLFREiE1uj-M"
      },
      "source": [
        "__round()__ function allows us to round off numbers"
      ]
    },
    {
      "cell_type": "code",
      "metadata": {
        "id": "3JkkcW90u7Bc",
        "outputId": "bac3be64-effd-4e9c-adc5-483f614327d3",
        "colab": {
          "base_uri": "https://localhost:8080/",
          "height": 51
        }
      },
      "source": [
        "print(round(3.2)) \n",
        "print(round(3.7))"
      ],
      "execution_count": null,
      "outputs": [
        {
          "output_type": "stream",
          "text": [
            "3\n",
            "4\n"
          ],
          "name": "stdout"
        }
      ]
    },
    {
      "cell_type": "markdown",
      "metadata": {
        "id": "M31NrcM1u-hX"
      },
      "source": [
        "### By Default,  functions we can use natively (without installing addons) is limited. In order to be able to use other functions, we import them from their respective libraries or modules\n",
        "\n",
        "Python library/module is a collection of functions and methods that allows you to perform many actions without writing your code. \n",
        "\n",
        "* Requests. HTTP library.\n",
        "*Scrapy. For web scraping.\n",
        "* wxPython.A GUI toolkit.\n",
        "* Pillow. Imaging library.\n",
        "*SQLAlchemy. A database library.\n",
        "* Beautiful Soup. XML and HTML parsing library.\n",
        "* Twisted. For networking applications development.\n",
        "* Numpy. Provides math functions.\n",
        "* SciPy. Algorithm and mathematical tools.\n",
        "* matplotlib.a numerical plotting library.\n",
        "* Pygame. 2d game development.\n",
        "\n"
      ]
    },
    {
      "cell_type": "markdown",
      "metadata": {
        "id": "zA47BF--wk-s"
      },
      "source": [
        "### Let us use the Math Module of Python\n",
        "reference: Python Math Functions: https://docs.python.org/3/library/math.html"
      ]
    },
    {
      "cell_type": "code",
      "metadata": {
        "id": "xCkI3wRFwVSC",
        "outputId": "6051da69-3ed6-45b2-d4bd-5ce87b6126ae",
        "colab": {
          "base_uri": "https://localhost:8080/",
          "height": 68
        }
      },
      "source": [
        "# importing functions from the math module allows us to do much more with regards to math within python\n",
        "from math import * \n",
        "\n",
        "# floor() function rounds a number down\n",
        "print(floor(3.7)) \n",
        "\n",
        "# ceil() does the opposite and rounds a number up \n",
        "print(ceil(3.7)) \n",
        "\n",
        "# getting the square root \n",
        "print(sqrt(36))"
      ],
      "execution_count": null,
      "outputs": [
        {
          "output_type": "stream",
          "text": [
            "3\n",
            "4\n",
            "6.0\n"
          ],
          "name": "stdout"
        }
      ]
    },
    {
      "cell_type": "markdown",
      "metadata": {
        "id": "tknN1FcC1FOn"
      },
      "source": [
        "## 1.4 Getting Input from Users \n",
        "\n",
        "Previously, we wrote python programs that just produced an output based on our code. Now we will write programs that allow users to input information into the program, store it in a variable, and make use of that input using the __input()__ function \n",
        "\n",
        "The input() function tells python to expect an input from a user. Within the __input()__ we can leave a message or a prompt from the user. \n",
        "\n"
      ]
    },
    {
      "cell_type": "code",
      "metadata": {
        "id": "S-KcStYS1lUo",
        "outputId": "3d712dd3-a353-4996-c688-e0084c126e47",
        "colab": {
          "base_uri": "https://localhost:8080/",
          "height": 85
        }
      },
      "source": [
        "# Create a variable called age, and ask the user \n",
        "age = input(\"How old are you?\") \n",
        "\n",
        "# Output the age of the user \n",
        "print(f\"You are {age} years old\") \n",
        "print(\"You are \", age, \" years old\") \n",
        "print(\"You are \" + str(age) + \" years old\")"
      ],
      "execution_count": null,
      "outputs": [
        {
          "output_type": "stream",
          "text": [
            "How old are you?10\n",
            "You are 10 years old\n",
            "You are  10  years old\n",
            "You are 10 years old\n"
          ],
          "name": "stdout"
        }
      ]
    },
    {
      "cell_type": "markdown",
      "metadata": {
        "id": "9BJY65oS2JJB"
      },
      "source": [
        "Now that we have collected the users age and stored it into a variable, we can manipulate this information"
      ]
    },
    {
      "cell_type": "code",
      "metadata": {
        "id": "V7ki17bD2nT9",
        "outputId": "dea4d459-02a1-4cb8-f703-589330cd0079",
        "colab": {
          "base_uri": "https://localhost:8080/",
          "height": 34
        }
      },
      "source": [
        "# Remember, all data recorded by input() is a string by default. If we want to perform arithmetic, we need to convert this into a number/integer using int() \n",
        "\n",
        "age_plus_ten = int(age) + 10 \n",
        "print(age_plus_ten)"
      ],
      "execution_count": null,
      "outputs": [
        {
          "output_type": "stream",
          "text": [
            "20\n"
          ],
          "name": "stdout"
        }
      ]
    },
    {
      "cell_type": "markdown",
      "metadata": {
        "id": "SQtbHX8R2rjF"
      },
      "source": [
        "Let us write a small program using everything we have learned."
      ]
    },
    {
      "cell_type": "code",
      "metadata": {
        "id": "q6RUkdb23PpJ",
        "outputId": "036f2f21-b8dd-4c4d-f4f0-32431fd7fb88",
        "colab": {
          "base_uri": "https://localhost:8080/",
          "height": 85
        }
      },
      "source": [
        "age = input(\"How old are you?\")\n",
        "height = input(\"How tall are you? \")\n",
        "weight = input(\"How much do you weigh in pounds?\")\n",
        "weight_in_kg = int(weight) / 2.2\n",
        "\n",
        "print(f\"So, you're {age} old, {height}, tall and {weight_in_kg} heavy\")\n"
      ],
      "execution_count": null,
      "outputs": [
        {
          "output_type": "stream",
          "text": [
            "How old are you?22\n",
            "How tall are you? 175\n",
            "How much do you weigh in pounds?175\n",
            "So, you're 22 old, 175, tall and 79.54545454545453 heavy\n"
          ],
          "name": "stdout"
        }
      ]
    },
    {
      "cell_type": "markdown",
      "metadata": {
        "id": "2i9TxVx73Rbl"
      },
      "source": [
        "By default, arithmetic operations, such as the one in the variable __weight_in_kg__ will result in a float (a number with a decimal), to clean this up we can re-write the code and make use of the __round()__ function we learned earlier"
      ]
    },
    {
      "cell_type": "code",
      "metadata": {
        "id": "NiMiLlnE3myZ",
        "outputId": "1c062c19-b6d6-4b06-d1d7-d57c4895432c",
        "colab": {
          "base_uri": "https://localhost:8080/",
          "height": 85
        }
      },
      "source": [
        "age = input(\"How old are you?\")\n",
        "height = input(\"How tall are you? \")\n",
        "weight = input(\"How much do you weigh in pounds?\")\n",
        "weight_in_kg = float(weight) / 2.2\n",
        "\n",
        "print(f\"So, you're {age} old, {height}, tall and {round(weight_in_kg, 2)} heavy\")\n",
        "\n"
      ],
      "execution_count": null,
      "outputs": [
        {
          "output_type": "stream",
          "text": [
            "How old are you?10\n",
            "How tall are you? \n",
            "How much do you weigh in pounds?170\n",
            "So, you're 10 old, , tall and 77.27 heavy\n"
          ],
          "name": "stdout"
        }
      ]
    },
    {
      "cell_type": "markdown",
      "metadata": {
        "id": "BVLEE-eF3qJZ"
      },
      "source": [
        "## 1.5 Building a Basic Calculator \n"
      ]
    },
    {
      "cell_type": "code",
      "metadata": {
        "id": "u-72xvhI4akD",
        "outputId": "eeee56a4-423f-4a96-fa0c-4e71c3c9895b",
        "colab": {
          "base_uri": "https://localhost:8080/",
          "height": 136
        }
      },
      "source": [
        "# Create variables to store the numbers inputted by users  \n",
        "# Since the input() function records data as strings by default, we will automatically convert these numbers into numbers using the float() function so we can perform some calculations.  \n",
        "# The float function is similar to int() in the sense that it converts strings into numbers, but float allows decimals, whereas int() is only whole numbers. \n",
        "# If num1 = int(input()), and the user enters a decimal, it will return an error\n",
        "\n",
        "num1 = float(input(\"Enter a number: \")) \n",
        "num2 = float(input(\"Enter another number:\")) \n",
        "\n",
        "sum_of_nums = num1 + num2 \n",
        "diff = num1 - num2 \n",
        "prod = num1 * num2 \n",
        "quo = num1 / num2 \n",
        "remainder = num1 % num2 \n",
        "\n",
        "print(\"The sum of the numbers is: \", sum_of_nums) \n",
        "print(\"The difference of the numbers is: \", diff) \n",
        "print(\"The product of the numbers is: \", prod) \n",
        "print(\"The quotient of the numbers is: \", quo) \n",
        "print(\"The remainder of the numbers is: \", remainder)"
      ],
      "execution_count": null,
      "outputs": [
        {
          "output_type": "stream",
          "text": [
            "Enter a number: 20\n",
            "Enter another number:10\n",
            "The sum of the numbers is:  30.0\n",
            "The difference of the numbers is:  10.0\n",
            "The product of the numbers is:  200.0\n",
            "The quotient of the numbers is:  2.0\n",
            "The remainder of the numbers is:  0.0\n"
          ],
          "name": "stdout"
        }
      ]
    },
    {
      "cell_type": "code",
      "metadata": {
        "id": "pKnMXdH345ZB"
      },
      "source": [],
      "execution_count": null,
      "outputs": []
    }
  ]
}