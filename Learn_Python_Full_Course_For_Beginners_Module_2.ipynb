{
  "nbformat": 4,
  "nbformat_minor": 0,
  "metadata": {
    "colab": {
      "provenance": []
    },
    "kernelspec": {
      "name": "python3",
      "display_name": "Python 3"
    }
  },
  "cells": [
    {
      "cell_type": "markdown",
      "metadata": {
        "id": "A2VtBbdBRULq"
      },
      "source": [
        "# Learn Python - Full Course for Beginners  \n",
        "\n",
        "Note: If this is your first time using Google Colab as a development environment, check out this intro: https://colab.research.google.com/notebooks/intro.ipynb\n",
        "\n",
        "Content References \n",
        "* Video Tutorial: https://youtu.be/rfscVS0vtbw?t=3793 \n",
        "* Lists: http://www.w3schools.com/python/python_lists.asp\n",
        "\n",
        "\n",
        "### Module 2\n",
        "\n",
        "* Lists\n",
        "* List Functions\n",
        "* Tuples\n",
        "* Functions\n",
        "* Return Statement\n"
      ]
    },
    {
      "cell_type": "markdown",
      "metadata": {
        "id": "SS_1-erQRuOu"
      },
      "source": [
        "## 1.1 Lists \n",
        "\n",
        "A list is a data structure inside of python that allows us to store multiple values of data and access them in a program"
      ]
    },
    {
      "cell_type": "markdown",
      "metadata": {
        "id": "2ySIE8WBRxjp"
      },
      "source": [
        "#### Creating List"
      ]
    },
    {
      "cell_type": "code",
      "metadata": {
        "id": "vKbO4r2ZSI3A",
        "outputId": "d285592c-008c-4306-cbb1-69ab79ce6ae2",
        "colab": {
          "base_uri": "https://localhost:8080/",
          "height": 51
        }
      },
      "source": [
        "# Whenever you declare a variable and enclose values inside brackets [], python knows that you are declaring a list\n",
        "friends = [\"Kevin\", \"Karen\", \"Jim\"]    \n",
        "\n",
        "# If you want to print out a list, you would do so like any other variable \n",
        "print(friends)\n",
        "\n",
        "# Lists can also store other values such as numbers or booleans \n",
        "list_2 = [\"Karen\", 2, False] \n",
        "print(list_2)"
      ],
      "execution_count": null,
      "outputs": [
        {
          "output_type": "stream",
          "text": [
            "['Kevin', 'Karen', 'Jim']\n",
            "['Karen', 2, False]\n"
          ],
          "name": "stdout"
        }
      ]
    },
    {
      "cell_type": "markdown",
      "metadata": {
        "id": "nOE4LFpgSg0c"
      },
      "source": [
        "#### Accessing the elements of a list\n",
        "\n",
        "#### Accessing a specific element of a list \n",
        "\n",
        "* The values contained in lists are known as __Elements__. These __elements__ can be refered to by their index, wherein the first element starts at __0__. \n",
        "\n",
        "* We can refer to elements by enclosing their index in square brackets __[]__ \n",
        "\n",
        "* __Negative Indexing__ is when we refer to elements starting from the last element which is [-1]"
      ]
    },
    {
      "cell_type": "code",
      "metadata": {
        "id": "SUZHVPfbTP_x",
        "outputId": "e4a8d131-5430-4bd4-c9d5-9a58c11fb00f",
        "colab": {
          "base_uri": "https://localhost:8080/",
          "height": 85
        }
      },
      "source": [
        "# Printing the first element of the list 'friends' \n",
        "print(friends[0])  \n",
        "\n",
        "# Printing the second element of the list 'friends' \n",
        "print(friends[1]) \n",
        "\n",
        "# We can also refer to the last element using the index '-1' \n",
        "print(friends[-1]) \n",
        "\n",
        "# Similarly, using a negative index allows to start from the end of the list wherein the last element begins at -1\n",
        "print(friends[-2]) "
      ],
      "execution_count": null,
      "outputs": [
        {
          "output_type": "stream",
          "text": [
            "Kevin\n",
            "Karen\n",
            "Jim\n",
            "Karen\n"
          ],
          "name": "stdout"
        }
      ]
    },
    {
      "cell_type": "markdown",
      "metadata": {
        "id": "e9i5fmfcTkDS"
      },
      "source": [
        "#### Accessing multiple elements in list \n",
        "\n",
        "We an also access a range of elements at once"
      ]
    },
    {
      "cell_type": "code",
      "metadata": {
        "id": "xmO8ZXbIU4HB",
        "outputId": "d6244d04-3460-444c-d044-21d5b33efe49",
        "colab": {
          "base_uri": "https://localhost:8080/",
          "height": 85
        }
      },
      "source": [
        "# Lets add more elements so we can illustrate this better \n",
        "friends = [\"Kevin\", \"Karen\", \"Jim\", \"Oscar\", \"Toby\"] \n",
        "print(friends) \n",
        "\n",
        "# Accessing element 'Karen' and onwards \n",
        "print(friends[1:])  \n",
        "\n",
        "# We can do the same thing by using negative indexing\n",
        "print(friends[-4:])  \n",
        "\n",
        "\n",
        "# If I wanted to access a specific range, we can follow this format. \n",
        "print(friends[1:3])\n"
      ],
      "execution_count": null,
      "outputs": [
        {
          "output_type": "stream",
          "text": [
            "['Kevin', 'Karen', 'Jim', 'Oscar', 'Toby']\n",
            "['Karen', 'Jim', 'Oscar', 'Toby']\n",
            "['Karen', 'Jim', 'Oscar', 'Toby']\n",
            "['Karen', 'Jim']\n"
          ],
          "name": "stdout"
        }
      ]
    },
    {
      "cell_type": "markdown",
      "metadata": {
        "id": "UvDH7ALlVDR6"
      },
      "source": [
        "As seen in the last print statement in the code above, when using a colon, __:__, to refer to a range of elements, the left hand side represents the first elemnt to be included, and the right handside represents 'up to but not including'."
      ]
    },
    {
      "cell_type": "code",
      "metadata": {
        "id": "tcEWKgWPWzc5",
        "outputId": "eafc8994-30ae-4c7f-90ba-c04b02aa398c",
        "colab": {
          "base_uri": "https://localhost:8080/",
          "height": 34
        }
      },
      "source": [
        "print(friends[1:3])"
      ],
      "execution_count": null,
      "outputs": [
        {
          "output_type": "stream",
          "text": [
            "['Karen', 'Jim']\n"
          ],
          "name": "stdout"
        }
      ]
    },
    {
      "cell_type": "markdown",
      "metadata": {
        "id": "ZOm14VvIW2MX"
      },
      "source": [
        "'Karen' is incuded because this element has the index = 1, but if you notice, 'Oscar' is not incuded because the range __1:3__ tells us to include up to but not including the elemnt with the value 'Oscar'"
      ]
    },
    {
      "cell_type": "markdown",
      "metadata": {
        "id": "giITVe8yXFQT"
      },
      "source": [
        "#### Modifying Elements in a List"
      ]
    },
    {
      "cell_type": "code",
      "metadata": {
        "id": "zjIoU0OGXY_q",
        "outputId": "df9399c4-2336-4efe-caaa-f6138c826c9f",
        "colab": {
          "base_uri": "https://localhost:8080/",
          "height": 51
        }
      },
      "source": [
        "# Declare List \n",
        "friends = [\"Kevin\", \"Karen\", \"Jim\", \"Oscar\", \"Toby\"]  \n",
        "\n",
        "print(friends[1]) \n",
        "\n",
        "# Updating friends[1] (formerly 'karen') \n",
        "friends[1] = 'Mike' \n",
        "\n",
        "# Print \n",
        "print(friends[1])"
      ],
      "execution_count": null,
      "outputs": [
        {
          "output_type": "stream",
          "text": [
            "Karen\n",
            "Mike\n"
          ],
          "name": "stdout"
        }
      ]
    },
    {
      "cell_type": "markdown",
      "metadata": {
        "id": "3bFDj30fQjDQ"
      },
      "source": [
        "As seen above, we can modify an element by declaring a new value under the specific index position that we want to modify."
      ]
    },
    {
      "cell_type": "markdown",
      "metadata": {
        "id": "zQzUBSJNQ-iJ"
      },
      "source": [
        "## 1.2 List Functions    \n",
        "\n",
        "Lists functions allow us to do many things with lists such as get info about lists or modify lists etc. \n",
        "\n",
        "Some functions (Syntax: list_name.function)\n",
        "* __extend()__ allows us to attach lists together \n",
        "* __append()__ allows us to add a value enclosed in the argument () to the end of the list \n",
        "* __insert()__ allows us to add a value enclosed in the argument to a specific position a list  \n",
        "* __remove()__ removes an element from a list \n",
        "* __clear()__ will empty an entire list \n",
        "* __pop()__ removes the last element in a list \n",
        "* __index()__ returns the index of an element if it is in the list \n",
        "* __count()__ returns the frequency of an element in a list \n",
        "* __copy()__ creates a copy of a list\n",
        "\n",
        "\n"
      ]
    },
    {
      "cell_type": "markdown",
      "metadata": {
        "id": "pM-YIy2in0Wy"
      },
      "source": [
        "#### extend() function"
      ]
    },
    {
      "cell_type": "code",
      "metadata": {
        "id": "HqNJQ-DNTuhV",
        "outputId": "d98fb64e-ee88-4137-d7b1-f53dda2673ad",
        "colab": {
          "base_uri": "https://localhost:8080/",
          "height": 51
        }
      },
      "source": [
        "# A list of numbers\n",
        "lucky_numbers = [4, 8, 15, 16, 23, 42] \n",
        "\n",
        "# A list of strings  \n",
        "friends = [\"Kevin\", \"Karen\", \"Jim\", \"Oscar\", \"Toby\"]   \n",
        "\n",
        "# Print 'friends' list\n",
        "print(friends)\n",
        "\n",
        "# Attaching the lucky_numbers to the friends list \n",
        "friends.extend(lucky_numbers) \n",
        "\n",
        "print(friends) "
      ],
      "execution_count": null,
      "outputs": [
        {
          "output_type": "stream",
          "text": [
            "['Kevin', 'Karen', 'Jim', 'Oscar', 'Toby']\n",
            "['Kevin', 'Karen', 'Jim', 'Oscar', 'Toby', 4, 8, 15, 16, 23, 42]\n"
          ],
          "name": "stdout"
        }
      ]
    },
    {
      "cell_type": "markdown",
      "metadata": {
        "id": "Hmr09l9CpGqY"
      },
      "source": [
        "#### append() function"
      ]
    },
    {
      "cell_type": "code",
      "metadata": {
        "id": "9XjBIOLSpEIp",
        "outputId": "95c68673-27f9-448d-b68b-75e4ce70da79",
        "colab": {
          "base_uri": "https://localhost:8080/",
          "height": 34
        }
      },
      "source": [
        "# We can also just add specific elements to a list  \n",
        "friends = [\"Kevin\", \"Karen\", \"Jim\", \"Oscar\", \"Toby\"]   \n",
        "friends.append(\"Creed\")  \n",
        "\n",
        "\n",
        "# Note: the append() function always adds an item to the end of the list\n",
        "print(friends)  "
      ],
      "execution_count": null,
      "outputs": [
        {
          "output_type": "stream",
          "text": [
            "['Kevin', 'Karen', 'Jim', 'Oscar', 'Toby', 'Creed']\n"
          ],
          "name": "stdout"
        }
      ]
    },
    {
      "cell_type": "markdown",
      "metadata": {
        "id": "HPzd6wR_pMF4"
      },
      "source": [
        "#### insert() function"
      ]
    },
    {
      "cell_type": "code",
      "metadata": {
        "id": "5D2I8msqpN5d",
        "outputId": "cf310545-384a-44fd-b1cb-20a10b2d28b2",
        "colab": {
          "base_uri": "https://localhost:8080/",
          "height": 34
        }
      },
      "source": [
        "# insert() allows to add an element to a specific position/index within a list. It takes two arguments (index, 'value')  \n",
        "# Do note that inserting affects the indices of all elements after the newly added element\n",
        "friends.insert(1, \"Kelly\") \n",
        "print(friends) "
      ],
      "execution_count": null,
      "outputs": [
        {
          "output_type": "stream",
          "text": [
            "['Kevin', 'Kelly', 'Karen', 'Jim', 'Oscar', 'Toby', 'Creed']\n"
          ],
          "name": "stdout"
        }
      ]
    },
    {
      "cell_type": "markdown",
      "metadata": {
        "id": "E_hAxBZmpY1t"
      },
      "source": [
        "#### remove() function"
      ]
    },
    {
      "cell_type": "code",
      "metadata": {
        "id": "_DYRspF7pb2g",
        "outputId": "f6d17351-40e4-4e8e-f2dc-52db8431fa89",
        "colab": {
          "base_uri": "https://localhost:8080/",
          "height": 51
        }
      },
      "source": [
        "# Removing an element from a list \n",
        "friends = [\"Kevin\", \"Karen\", \"Jim\", \"Oscar\", \"Toby\"]   \n",
        "print(friends) \n",
        "\n",
        "friends.remove(\"Jim\") \n",
        "print(friends)"
      ],
      "execution_count": null,
      "outputs": [
        {
          "output_type": "stream",
          "text": [
            "['Kevin', 'Karen', 'Jim', 'Oscar', 'Toby']\n",
            "['Kevin', 'Karen', 'Oscar', 'Toby']\n"
          ],
          "name": "stdout"
        }
      ]
    },
    {
      "cell_type": "markdown",
      "metadata": {
        "id": "w3W3oabXpgjN"
      },
      "source": [
        "#### clear() function"
      ]
    },
    {
      "cell_type": "code",
      "metadata": {
        "id": "-KtSXwO8psQe",
        "outputId": "30f95823-5875-4c20-bb62-fb2ef58e631d",
        "colab": {
          "base_uri": "https://localhost:8080/",
          "height": 51
        }
      },
      "source": [
        "print(friends)\n",
        "\n",
        "# Clear() will empty an entire list\n",
        "friends.clear() \n",
        "\n",
        "print(friends)"
      ],
      "execution_count": null,
      "outputs": [
        {
          "output_type": "stream",
          "text": [
            "['Kevin', 'Karen', 'Oscar', 'Toby']\n",
            "[]\n"
          ],
          "name": "stdout"
        }
      ]
    },
    {
      "cell_type": "markdown",
      "metadata": {
        "id": "EXbDQa-tp47W"
      },
      "source": [
        "#### pop() function"
      ]
    },
    {
      "cell_type": "code",
      "metadata": {
        "id": "EJ1F_XN0qIAv",
        "outputId": "757e310d-949a-43db-df3b-9c60c5571378",
        "colab": {
          "base_uri": "https://localhost:8080/",
          "height": 51
        }
      },
      "source": [
        "friends = [\"Kevin\", \"Karen\", \"Jim\", \"Oscar\", \"Toby\"]   \n",
        "print(friends) \n",
        "\n",
        "# pop() will remove the last element in a list \n",
        "friends.pop() \n",
        "print(friends)"
      ],
      "execution_count": null,
      "outputs": [
        {
          "output_type": "stream",
          "text": [
            "['Kevin', 'Karen', 'Jim', 'Oscar', 'Toby']\n",
            "['Kevin', 'Karen', 'Jim', 'Oscar']\n"
          ],
          "name": "stdout"
        }
      ]
    },
    {
      "cell_type": "markdown",
      "metadata": {
        "id": "wZy4wh7HqRYE"
      },
      "source": [
        "#### We can also use functions, like __index()__ to check the index of an element in a list"
      ]
    },
    {
      "cell_type": "code",
      "metadata": {
        "id": "3yFpHGcprQdM",
        "outputId": "2ee9f5e4-30d5-460c-cf61-6f3376a6368d",
        "colab": {
          "base_uri": "https://localhost:8080/",
          "height": 34
        }
      },
      "source": [
        "friends = [\"Kevin\", \"Karen\", \"Jim\", \"Oscar\", \"Toby\"]    \n",
        "\n",
        "print(friends.index(\"Kevin\")) "
      ],
      "execution_count": null,
      "outputs": [
        {
          "output_type": "stream",
          "text": [
            "0\n"
          ],
          "name": "stdout"
        }
      ]
    },
    {
      "cell_type": "markdown",
      "metadata": {
        "id": "--eODWHNrgjg"
      },
      "source": [
        "If an item is not in the list, the index() function will return an error as seen below:"
      ]
    },
    {
      "cell_type": "code",
      "metadata": {
        "id": "UBp7Itq0rrgJ",
        "outputId": "2a77fa49-ca3a-4734-a35a-c81165cba707",
        "colab": {
          "base_uri": "https://localhost:8080/",
          "height": 198
        }
      },
      "source": [
        "friends = [\"Kevin\", \"Karen\", \"Jim\", \"Oscar\", \"Toby\"]    \n",
        "\n",
        "print(friends.index(\"Thomas\"))"
      ],
      "execution_count": null,
      "outputs": [
        {
          "output_type": "error",
          "ename": "ValueError",
          "evalue": "ignored",
          "traceback": [
            "\u001b[0;31m---------------------------------------------------------------------------\u001b[0m",
            "\u001b[0;31mValueError\u001b[0m                                Traceback (most recent call last)",
            "\u001b[0;32m<ipython-input-44-f109e8c2b163>\u001b[0m in \u001b[0;36m<module>\u001b[0;34m()\u001b[0m\n\u001b[1;32m      1\u001b[0m \u001b[0mfriends\u001b[0m \u001b[0;34m=\u001b[0m \u001b[0;34m[\u001b[0m\u001b[0;34m\"Kevin\"\u001b[0m\u001b[0;34m,\u001b[0m \u001b[0;34m\"Karen\"\u001b[0m\u001b[0;34m,\u001b[0m \u001b[0;34m\"Jim\"\u001b[0m\u001b[0;34m,\u001b[0m \u001b[0;34m\"Oscar\"\u001b[0m\u001b[0;34m,\u001b[0m \u001b[0;34m\"Toby\"\u001b[0m\u001b[0;34m]\u001b[0m\u001b[0;34m\u001b[0m\u001b[0;34m\u001b[0m\u001b[0m\n\u001b[1;32m      2\u001b[0m \u001b[0;34m\u001b[0m\u001b[0m\n\u001b[0;32m----> 3\u001b[0;31m \u001b[0mprint\u001b[0m\u001b[0;34m(\u001b[0m\u001b[0mfriends\u001b[0m\u001b[0;34m.\u001b[0m\u001b[0mindex\u001b[0m\u001b[0;34m(\u001b[0m\u001b[0;34m\"Thomas\"\u001b[0m\u001b[0;34m)\u001b[0m\u001b[0;34m)\u001b[0m\u001b[0;34m\u001b[0m\u001b[0;34m\u001b[0m\u001b[0m\n\u001b[0m",
            "\u001b[0;31mValueError\u001b[0m: 'Thomas' is not in list"
          ]
        }
      ]
    },
    {
      "cell_type": "markdown",
      "metadata": {
        "id": "LH6XoswerycS"
      },
      "source": [
        "#### count() will count the number of similar elements in a list"
      ]
    },
    {
      "cell_type": "code",
      "metadata": {
        "id": "SAVDf5R1uYZ2",
        "outputId": "e8d9b0d8-eefd-44eb-b550-c08a0fcca040",
        "colab": {
          "base_uri": "https://localhost:8080/",
          "height": 34
        }
      },
      "source": [
        "friends = [\"Kevin\", \"Karen\", \"Jim\", \"Oscar\", \"Toby\", \"Jim\"]  \n",
        "print(friends.count(\"Jim\"))"
      ],
      "execution_count": null,
      "outputs": [
        {
          "output_type": "stream",
          "text": [
            "2\n"
          ],
          "name": "stdout"
        }
      ]
    },
    {
      "cell_type": "markdown",
      "metadata": {
        "id": "RN8Oodcnuhtw"
      },
      "source": [
        "#### sort() will sort a list in ascending order"
      ]
    },
    {
      "cell_type": "code",
      "metadata": {
        "id": "si031lcRuml1",
        "outputId": "198ceed8-db36-41c3-bbbd-fca5d26df3ce",
        "colab": {
          "base_uri": "https://localhost:8080/",
          "height": 34
        }
      },
      "source": [
        "friends = [\"Kevin\", \"Karen\", \"Jim\", \"Oscar\", \"Toby\"]  \n",
        "\n",
        "# If the list contains strings, it will sort it in alphabetical order \n",
        "friends.sort() \n",
        "print(friends) \n",
        "\n",
        "# If the list containts numbers, it will sort it in ascending order  \n"
      ],
      "execution_count": null,
      "outputs": [
        {
          "output_type": "stream",
          "text": [
            "['Jim', 'Karen', 'Kevin', 'Oscar', 'Toby']\n"
          ],
          "name": "stdout"
        }
      ]
    },
    {
      "cell_type": "code",
      "metadata": {
        "id": "kTZNSveGuwDx",
        "outputId": "5ed6af71-e559-4df5-8ff8-01f98258b382",
        "colab": {
          "base_uri": "https://localhost:8080/",
          "height": 34
        }
      },
      "source": [
        "lucky_numbers = [40, 8, 150, 16, 23, 42]  \n",
        "\n",
        "lucky_numbers.sort() \n",
        "print(lucky_numbers)"
      ],
      "execution_count": null,
      "outputs": [
        {
          "output_type": "stream",
          "text": [
            "[8, 16, 23, 40, 42, 150]\n"
          ],
          "name": "stdout"
        }
      ]
    },
    {
      "cell_type": "markdown",
      "metadata": {
        "id": "8vXRgXYdu6Fg"
      },
      "source": [
        "#### copy() creates a copy of another list"
      ]
    },
    {
      "cell_type": "code",
      "metadata": {
        "id": "0PU0ux9BvuNo",
        "outputId": "794b5091-c9ea-4f3f-a725-96a131a9bc41",
        "colab": {
          "base_uri": "https://localhost:8080/",
          "height": 51
        }
      },
      "source": [
        "# Declare the friends list\n",
        "friends = [\"Kevin\", \"Karen\", \"Jim\", \"Oscar\", \"Toby\"]  \n",
        "print(friends) \n",
        "\n",
        "\n",
        "\n",
        "# Declare friends2 and equate to a copy of friends\n",
        "friends2 = friends.copy()\n",
        "print(friends2)"
      ],
      "execution_count": null,
      "outputs": [
        {
          "output_type": "stream",
          "text": [
            "['Kevin', 'Karen', 'Jim', 'Oscar', 'Toby']\n",
            "['Kevin', 'Karen', 'Jim', 'Oscar', 'Toby']\n"
          ],
          "name": "stdout"
        }
      ]
    },
    {
      "cell_type": "markdown",
      "metadata": {
        "id": "W_N2lU5GwXpT"
      },
      "source": [
        "## 1.3 Tuples \n",
        "\n",
        "A tuple is another type of data structure. A tuple is similar to a list, in the sense that it also can store a list of multiple information, but a tuple has a few key differences."
      ]
    },
    {
      "cell_type": "markdown",
      "metadata": {
        "id": "LnfZcjJywctm"
      },
      "source": [
        "#### Creating a Tuple"
      ]
    },
    {
      "cell_type": "markdown",
      "metadata": {
        "id": "FJUtngBKxHRv"
      },
      "source": [
        "One of the most common examples of a tuple is __Coordinates__."
      ]
    },
    {
      "cell_type": "code",
      "metadata": {
        "id": "TKByDJPQxPPk"
      },
      "source": [
        "# When creating a tuple, we use parenthesis () \n",
        "coordinates = (4, 5)"
      ],
      "execution_count": null,
      "outputs": []
    },
    {
      "cell_type": "markdown",
      "metadata": {
        "id": "qaea-kgeyPBt"
      },
      "source": [
        "The elements of a tuple can be accessed in the same way as a list, using []"
      ]
    },
    {
      "cell_type": "code",
      "metadata": {
        "id": "DD-iomsKyrJw",
        "outputId": "4bf03c4f-9809-4b19-afc1-2d8e54820428",
        "colab": {
          "base_uri": "https://localhost:8080/",
          "height": 34
        }
      },
      "source": [
        "coordinates = (4,5) \n",
        "\n",
        "print(coordinates[0])"
      ],
      "execution_count": null,
      "outputs": [
        {
          "output_type": "stream",
          "text": [
            "4\n"
          ],
          "name": "stdout"
        }
      ]
    },
    {
      "cell_type": "markdown",
      "metadata": {
        "id": "XYzzLDQSx3m6"
      },
      "source": [
        "#### Difference: Tuples are immutable. Once they are created, they cannot be changed or modified."
      ]
    },
    {
      "cell_type": "code",
      "metadata": {
        "id": "wyOkJtJwy8BJ",
        "outputId": "d759e70c-c819-453f-9c7f-eb8d38a07d15",
        "colab": {
          "base_uri": "https://localhost:8080/",
          "height": 198
        }
      },
      "source": [
        "coordinates = (4,5) \n",
        "\n",
        "# Here we will try to change the first element of the tuple\n",
        "coordinates[0] = 10"
      ],
      "execution_count": null,
      "outputs": [
        {
          "output_type": "error",
          "ename": "TypeError",
          "evalue": "ignored",
          "traceback": [
            "\u001b[0;31m---------------------------------------------------------------------------\u001b[0m",
            "\u001b[0;31mTypeError\u001b[0m                                 Traceback (most recent call last)",
            "\u001b[0;32m<ipython-input-58-92af23df8b35>\u001b[0m in \u001b[0;36m<module>\u001b[0;34m()\u001b[0m\n\u001b[1;32m      2\u001b[0m \u001b[0;34m\u001b[0m\u001b[0m\n\u001b[1;32m      3\u001b[0m \u001b[0;31m# Here we will try to change the first element of the tuple\u001b[0m\u001b[0;34m\u001b[0m\u001b[0;34m\u001b[0m\u001b[0;34m\u001b[0m\u001b[0m\n\u001b[0;32m----> 4\u001b[0;31m \u001b[0mcoordinates\u001b[0m\u001b[0;34m[\u001b[0m\u001b[0;36m0\u001b[0m\u001b[0;34m]\u001b[0m \u001b[0;34m=\u001b[0m \u001b[0;36m10\u001b[0m\u001b[0;34m\u001b[0m\u001b[0;34m\u001b[0m\u001b[0m\n\u001b[0m",
            "\u001b[0;31mTypeError\u001b[0m: 'tuple' object does not support item assignment"
          ]
        }
      ]
    },
    {
      "cell_type": "markdown",
      "metadata": {
        "id": "XfbEuOyFzDjB"
      },
      "source": [
        "As seen above, trying to change the value of an element in a tuple will result in an error"
      ]
    },
    {
      "cell_type": "code",
      "metadata": {
        "id": "cmcmUpruzFIs"
      },
      "source": [],
      "execution_count": null,
      "outputs": []
    },
    {
      "cell_type": "markdown",
      "metadata": {
        "id": "6OEDR4K33-jp"
      },
      "source": [
        "## 1.4 Functions \n",
        "\n",
        "So far, we have only been using the functions that come with Python, but it is also possible to add new functions. A function definition specifies the name of a new function and the sequence of statements that execute when the function is called. Once we define a function, we can reuse the function over and over throughout our program."
      ]
    },
    {
      "cell_type": "markdown",
      "metadata": {
        "id": "EEORuZMz4B-4"
      },
      "source": [
        "### Example"
      ]
    },
    {
      "cell_type": "code",
      "metadata": {
        "id": "P5fc6Y8B4kGS",
        "outputId": "fd86c8e0-89b7-49de-b883-c2249e5439c3",
        "colab": {
          "base_uri": "https://localhost:8080/",
          "height": 34
        }
      },
      "source": [
        "\n",
        "# The first line of a function is called the header \n",
        "def say_hello():  \n",
        "\n",
        "  # The rest is called the body. The body can contain any number of statements.\n",
        "  print(\"Hello\") \n",
        "\n",
        "  # In order to end a function definition, you just need to leave a blank line.\n",
        "\n",
        "\n",
        "# This is the main program, where I will call the function\n",
        "say_hello()"
      ],
      "execution_count": null,
      "outputs": [
        {
          "output_type": "stream",
          "text": [
            "Hello\n"
          ],
          "name": "stdout"
        }
      ]
    },
    {
      "cell_type": "markdown",
      "metadata": {
        "id": "SjLg0dgA46X7"
      },
      "source": [
        "* __def__ is a keyword that this is a function definition \n",
        "* In this case, the name of the function is __say_hello__ \n",
        "* functions contain arguments, which are enclosed in the parentheses __()__.   \n",
        "* When writing functions, it is important to add a colon __(':')__ at the end of the function name. This tells python to indent the next few lines. Indentation will be discussed later on.  \n"
      ]
    },
    {
      "cell_type": "markdown",
      "metadata": {
        "id": "P-P2wX7D5A3a"
      },
      "source": [
        "### Why are functions important? \n",
        "\n",
        "When you begin to make more complex programs, certain parts of these programs can get quite long. If you were to re-use certain elements of your program throughout your code, your program would become unnecessarily long, disorganized, and copy pasting code over and over is not an efficient use of time as a coder. \n",
        "\n",
        "\n"
      ]
    },
    {
      "cell_type": "code",
      "metadata": {
        "id": "UQe9dGt17B9M",
        "outputId": "b893a968-e903-4236-ce33-115b0823a405",
        "colab": {
          "base_uri": "https://localhost:8080/",
          "height": 680
        }
      },
      "source": [
        "# Lets say I wanted to write a program that prints a set of lyrics three times. \n",
        "\n",
        "print(\"\"\" \n",
        "  Did a full 180, crazy\n",
        "  Thinking 'bout the way I was\n",
        "  Did the heartbreak change me? Maybe\n",
        "  But look at where I ended up\n",
        "  I'm all good already\n",
        "  So moved on, it's scary\n",
        "  I'm not where you left me at all, so\n",
        "\n",
        "  [Pre-Chorus]\n",
        "  If you don't wanna see me dancing with somebody\n",
        "  If you wanna believe that anything could stop me) \n",
        "  \"\"\") \n",
        "\n",
        "print(\"\"\" \n",
        "  Did a full 180, crazy\n",
        "  Thinking 'bout the way I was\n",
        "  Did the heartbreak change me? Maybe\n",
        "  But look at where I ended up\n",
        "  I'm all good already\n",
        "  So moved on, it's scary\n",
        "  I'm not where you left me at all, so\n",
        "\n",
        "  [Pre-Chorus]\n",
        "  If you don't wanna see me dancing with somebody\n",
        "  If you wanna believe that anything could stop me) \n",
        "  \"\"\") \n",
        "\n",
        "print(\"\"\" \n",
        "  Did a full 180, crazy\n",
        "  Thinking 'bout the way I was\n",
        "  Did the heartbreak change me? Maybe\n",
        "  But look at where I ended up\n",
        "  I'm all good already\n",
        "  So moved on, it's scary\n",
        "  I'm not where you left me at all, so\n",
        "\n",
        "  [Pre-Chorus]\n",
        "  If you don't wanna see me dancing with somebody\n",
        "  If you wanna believe that anything could stop me) \n",
        "  \"\"\")\n"
      ],
      "execution_count": null,
      "outputs": [
        {
          "output_type": "stream",
          "text": [
            " \n",
            "  Did a full 180, crazy\n",
            "  Thinking 'bout the way I was\n",
            "  Did the heartbreak change me? Maybe\n",
            "  But look at where I ended up\n",
            "  I'm all good already\n",
            "  So moved on, it's scary\n",
            "  I'm not where you left me at all, so\n",
            "\n",
            "  [Pre-Chorus]\n",
            "  If you don't wanna see me dancing with somebody\n",
            "  If you wanna believe that anything could stop me) \n",
            "  \n",
            " \n",
            "  Did a full 180, crazy\n",
            "  Thinking 'bout the way I was\n",
            "  Did the heartbreak change me? Maybe\n",
            "  But look at where I ended up\n",
            "  I'm all good already\n",
            "  So moved on, it's scary\n",
            "  I'm not where you left me at all, so\n",
            "\n",
            "  [Pre-Chorus]\n",
            "  If you don't wanna see me dancing with somebody\n",
            "  If you wanna believe that anything could stop me) \n",
            "  \n",
            " \n",
            "  Did a full 180, crazy\n",
            "  Thinking 'bout the way I was\n",
            "  Did the heartbreak change me? Maybe\n",
            "  But look at where I ended up\n",
            "  I'm all good already\n",
            "  So moved on, it's scary\n",
            "  I'm not where you left me at all, so\n",
            "\n",
            "  [Pre-Chorus]\n",
            "  If you don't wanna see me dancing with somebody\n",
            "  If you wanna believe that anything could stop me) \n",
            "  \n"
          ],
          "name": "stdout"
        }
      ]
    },
    {
      "cell_type": "markdown",
      "metadata": {
        "id": "7YpyENdd7K5o"
      },
      "source": [
        "#### We can shorten this using functions. \n",
        "\n",
        "\n",
        "There are two steps to using functions: \n",
        "\n",
        "1. Define the function \n",
        "2. Call the function"
      ]
    },
    {
      "cell_type": "code",
      "metadata": {
        "id": "OV4YQVr26TL9",
        "outputId": "b8e31420-4bd2-49b2-88e2-d74390f702b9",
        "colab": {
          "base_uri": "https://localhost:8080/",
          "height": 680
        }
      },
      "source": [
        "\n",
        "# Function Definition\n",
        "\n",
        "def print_lyrics(): \n",
        "  print(\"\"\" \n",
        "  Did a full 180, crazy\n",
        "  Thinking 'bout the way I was\n",
        "  Did the heartbreak change me? Maybe\n",
        "  But look at where I ended up\n",
        "  I'm all good already\n",
        "  So moved on, it's scary\n",
        "  I'm not where you left me at all, so\n",
        "\n",
        "  [Pre-Chorus]\n",
        "  If you don't wanna see me dancing with somebody\n",
        "  If you wanna believe that anything could stop me) \n",
        "  \"\"\")  \n",
        "\n",
        "# Leave a blank line, and dont indent your main program\n",
        "\n",
        "# Main Program  \n",
        "\n",
        "# Call the function\n",
        "print_lyrics() \n",
        "print_lyrics() \n",
        "print_lyrics()"
      ],
      "execution_count": null,
      "outputs": [
        {
          "output_type": "stream",
          "text": [
            " \n",
            "  Did a full 180, crazy\n",
            "  Thinking 'bout the way I was\n",
            "  Did the heartbreak change me? Maybe\n",
            "  But look at where I ended up\n",
            "  I'm all good already\n",
            "  So moved on, it's scary\n",
            "  I'm not where you left me at all, so\n",
            "\n",
            "  [Pre-Chorus]\n",
            "  If you don't wanna see me dancing with somebody\n",
            "  If you wanna believe that anything could stop me) \n",
            "  \n",
            " \n",
            "  Did a full 180, crazy\n",
            "  Thinking 'bout the way I was\n",
            "  Did the heartbreak change me? Maybe\n",
            "  But look at where I ended up\n",
            "  I'm all good already\n",
            "  So moved on, it's scary\n",
            "  I'm not where you left me at all, so\n",
            "\n",
            "  [Pre-Chorus]\n",
            "  If you don't wanna see me dancing with somebody\n",
            "  If you wanna believe that anything could stop me) \n",
            "  \n",
            " \n",
            "  Did a full 180, crazy\n",
            "  Thinking 'bout the way I was\n",
            "  Did the heartbreak change me? Maybe\n",
            "  But look at where I ended up\n",
            "  I'm all good already\n",
            "  So moved on, it's scary\n",
            "  I'm not where you left me at all, so\n",
            "\n",
            "  [Pre-Chorus]\n",
            "  If you don't wanna see me dancing with somebody\n",
            "  If you wanna believe that anything could stop me) \n",
            "  \n"
          ],
          "name": "stdout"
        }
      ]
    },
    {
      "cell_type": "markdown",
      "metadata": {
        "id": "bs2CMCD37cX0"
      },
      "source": [
        "Once you have defined a function, you can even use it inside another function."
      ]
    },
    {
      "cell_type": "code",
      "metadata": {
        "id": "T5ODOxLC78i2",
        "outputId": "1bf14e46-752f-4f64-afa2-b9a6b14e955d",
        "colab": {
          "base_uri": "https://localhost:8080/",
          "height": 459
        }
      },
      "source": [
        "\n",
        "# function definition\n",
        "def repeat_lyrics(): \n",
        "\n",
        "  # Calling the previously made function inside this new function\n",
        "  print_lyrics() \n",
        "  print_lyrics() \n",
        "\n",
        "\n",
        "# Main \n",
        "repeat_lyrics()\n",
        "\n"
      ],
      "execution_count": null,
      "outputs": [
        {
          "output_type": "stream",
          "text": [
            " \n",
            "  Did a full 180, crazy\n",
            "  Thinking 'bout the way I was\n",
            "  Did the heartbreak change me? Maybe\n",
            "  But look at where I ended up\n",
            "  I'm all good already\n",
            "  So moved on, it's scary\n",
            "  I'm not where you left me at all, so\n",
            "\n",
            "  [Pre-Chorus]\n",
            "  If you don't wanna see me dancing with somebody\n",
            "  If you wanna believe that anything could stop me) \n",
            "  \n",
            " \n",
            "  Did a full 180, crazy\n",
            "  Thinking 'bout the way I was\n",
            "  Did the heartbreak change me? Maybe\n",
            "  But look at where I ended up\n",
            "  I'm all good already\n",
            "  So moved on, it's scary\n",
            "  I'm not where you left me at all, so\n",
            "\n",
            "  [Pre-Chorus]\n",
            "  If you don't wanna see me dancing with somebody\n",
            "  If you wanna believe that anything could stop me) \n",
            "  \n"
          ],
          "name": "stdout"
        }
      ]
    },
    {
      "cell_type": "markdown",
      "metadata": {
        "id": "z8lDNFwS8LBX"
      },
      "source": [
        "### Parameters and Arguments \n",
        "\n",
        "Inside a function, the arguments are assigned to variables called __parameters__"
      ]
    },
    {
      "cell_type": "code",
      "metadata": {
        "id": "VzGNb9uy8U26",
        "outputId": "c99f7ce6-5328-4084-e462-d9346f0a5371",
        "colab": {
          "base_uri": "https://localhost:8080/",
          "height": 51
        }
      },
      "source": [
        "# Define the function(parameter) \n",
        "def print_twice(bruce): \n",
        "  print(bruce) \n",
        "  print(bruce) \n",
        "\n",
        "\n",
        "# Main \n",
        "print_twice('Spam')"
      ],
      "execution_count": null,
      "outputs": [
        {
          "output_type": "stream",
          "text": [
            "Spam\n",
            "Spam\n"
          ],
          "name": "stdout"
        }
      ]
    },
    {
      "cell_type": "markdown",
      "metadata": {
        "id": "9nH6ueWK-rdI"
      },
      "source": [
        "The name of your __parameter__ is not important. What is important is that you are consistent when you refer to the paremeter within your function definition."
      ]
    },
    {
      "cell_type": "code",
      "metadata": {
        "id": "X7-eJA00-473",
        "outputId": "2768da38-6a6b-4727-8aee-18441e09d7d5",
        "colab": {
          "base_uri": "https://localhost:8080/",
          "height": 51
        }
      },
      "source": [
        "# import the math library \n",
        "import math \n",
        "\n",
        "# Main \n",
        "print_twice(math.pi)"
      ],
      "execution_count": null,
      "outputs": [
        {
          "output_type": "stream",
          "text": [
            "3.141592653589793\n",
            "3.141592653589793\n"
          ],
          "name": "stdout"
        }
      ]
    },
    {
      "cell_type": "markdown",
      "metadata": {
        "id": "EgK6Ad_q_Ddx"
      },
      "source": [
        "* Remember the __math__ library? We imported it, so that we can use the __.pi__ function in conjuction with our __print_twice()__ function \n",
        "\n",
        "* Now let us clean up our code even further using the .round() function, which is native to python (meaning, we do not need to import or define any function) \n",
        "\n",
        "* Syntax: __round(number, digits)__"
      ]
    },
    {
      "cell_type": "code",
      "metadata": {
        "id": "Xavaupq7_b4F",
        "outputId": "5399d55d-721a-4863-a200-e5d861eec7de",
        "colab": {
          "base_uri": "https://localhost:8080/",
          "height": 51
        }
      },
      "source": [
        "# import the math library \n",
        "import math \n",
        "\n",
        "# Main \n",
        "print_twice(round(math.pi,2))"
      ],
      "execution_count": null,
      "outputs": [
        {
          "output_type": "stream",
          "text": [
            "3.14\n",
            "3.14\n"
          ],
          "name": "stdout"
        }
      ]
    },
    {
      "cell_type": "markdown",
      "metadata": {
        "id": "4LgtqHso_po7"
      },
      "source": [
        "#### Now, let us try to use string inputs,string formatting and concatenation with functions"
      ]
    },
    {
      "cell_type": "code",
      "metadata": {
        "id": "5khNqb9gAhCH",
        "outputId": "463394a3-96c5-4cf6-ec4a-e5f1f84ad357",
        "colab": {
          "base_uri": "https://localhost:8080/",
          "height": 119
        }
      },
      "source": [
        "# Define function\n",
        "\n",
        "# We can use as many paremeters as we like\n",
        "def print_my_deets(name, age, weight): \n",
        "  print(f\"Your name is: {name} \") \n",
        "  print(f\"Your age is {age}\" + \" years old\") \n",
        "  print(f\"You weight {weight}\") \n",
        "\n",
        "\n",
        "\n",
        "# Main code \n",
        "\n",
        "name_input = input(\"Please enter your name:\")\n",
        "age_input = input(\"Please enter your age (years):\")\n",
        "weight_input = input(\"Please enter your weight in pounds:\") \n",
        "\n",
        "print_my_deets(name_input, age_input, weight_input)"
      ],
      "execution_count": null,
      "outputs": [
        {
          "output_type": "stream",
          "text": [
            "Please enter your name:Lorenzo Urera\n",
            "Please enter your age (years):23\n",
            "Please enter your weight in pounds:145\n",
            "Your name is: Lorenzo Urera \n",
            "Your age is 23 years old\n",
            "You weight 145\n"
          ],
          "name": "stdout"
        }
      ]
    },
    {
      "cell_type": "markdown",
      "metadata": {
        "id": "zFmVNj0kBfz-"
      },
      "source": [
        "Remember, using the input function takes in stings. Whatever data type you pass to a function paremeter, is the kind of data type it will \"inherit within a function\n",
        "\n",
        "\n",
        "\n"
      ]
    },
    {
      "cell_type": "code",
      "metadata": {
        "id": "r-1IQqJpCosi",
        "outputId": "068f42b9-b1f1-4b14-9830-5ef365c00166",
        "colab": {
          "base_uri": "https://localhost:8080/",
          "height": 334
        }
      },
      "source": [
        "def convert_my_weight_to_kg(weight): \n",
        "  convert_to_kg = weight / 2.2 \n",
        "  print(convert_to_kg) \n",
        "\n",
        "\n",
        "weight_in_lb = input(\"Enter your weight in pounds: \") \n",
        "convert_my_weight_to_kg(weight_in_lb)"
      ],
      "execution_count": null,
      "outputs": [
        {
          "output_type": "stream",
          "text": [
            "Enter your weight in pounds: 10\n"
          ],
          "name": "stdout"
        },
        {
          "output_type": "error",
          "ename": "TypeError",
          "evalue": "ignored",
          "traceback": [
            "\u001b[0;31m---------------------------------------------------------------------------\u001b[0m",
            "\u001b[0;31mTypeError\u001b[0m                                 Traceback (most recent call last)",
            "\u001b[0;32m<ipython-input-18-80db49c6ddc1>\u001b[0m in \u001b[0;36m<module>\u001b[0;34m()\u001b[0m\n\u001b[1;32m      5\u001b[0m \u001b[0;34m\u001b[0m\u001b[0m\n\u001b[1;32m      6\u001b[0m \u001b[0mweight_in_lb\u001b[0m \u001b[0;34m=\u001b[0m \u001b[0minput\u001b[0m\u001b[0;34m(\u001b[0m\u001b[0;34m\"Enter your weight in pounds: \"\u001b[0m\u001b[0;34m)\u001b[0m\u001b[0;34m\u001b[0m\u001b[0;34m\u001b[0m\u001b[0m\n\u001b[0;32m----> 7\u001b[0;31m \u001b[0mconvert_my_weight_to_kg\u001b[0m\u001b[0;34m(\u001b[0m\u001b[0mweight_in_lb\u001b[0m\u001b[0;34m)\u001b[0m\u001b[0;34m\u001b[0m\u001b[0;34m\u001b[0m\u001b[0m\n\u001b[0m",
            "\u001b[0;32m<ipython-input-18-80db49c6ddc1>\u001b[0m in \u001b[0;36mconvert_my_weight_to_kg\u001b[0;34m(weight)\u001b[0m\n\u001b[1;32m      1\u001b[0m \u001b[0;32mdef\u001b[0m \u001b[0mconvert_my_weight_to_kg\u001b[0m\u001b[0;34m(\u001b[0m\u001b[0mweight\u001b[0m\u001b[0;34m)\u001b[0m\u001b[0;34m:\u001b[0m\u001b[0;34m\u001b[0m\u001b[0;34m\u001b[0m\u001b[0m\n\u001b[0;32m----> 2\u001b[0;31m   \u001b[0mconvert_to_kg\u001b[0m \u001b[0;34m=\u001b[0m \u001b[0mweight\u001b[0m \u001b[0;34m/\u001b[0m \u001b[0;36m2.2\u001b[0m\u001b[0;34m\u001b[0m\u001b[0;34m\u001b[0m\u001b[0m\n\u001b[0m\u001b[1;32m      3\u001b[0m   \u001b[0mprint\u001b[0m\u001b[0;34m(\u001b[0m\u001b[0mconvert_to_kg\u001b[0m\u001b[0;34m)\u001b[0m\u001b[0;34m\u001b[0m\u001b[0;34m\u001b[0m\u001b[0m\n\u001b[1;32m      4\u001b[0m \u001b[0;34m\u001b[0m\u001b[0m\n\u001b[1;32m      5\u001b[0m \u001b[0;34m\u001b[0m\u001b[0m\n",
            "\u001b[0;31mTypeError\u001b[0m: unsupported operand type(s) for /: 'str' and 'float'"
          ]
        }
      ]
    },
    {
      "cell_type": "markdown",
      "metadata": {
        "id": "APXN2DnfDi61"
      },
      "source": [
        "Remember, that the input function takes in data as a string. We need to convert this to a float in order to run calculation"
      ]
    },
    {
      "cell_type": "code",
      "metadata": {
        "id": "GAYXIA-FDzpR",
        "outputId": "899e78a9-c9bf-4085-c968-1da2624cdb82",
        "colab": {
          "base_uri": "https://localhost:8080/",
          "height": 68
        }
      },
      "source": [
        "# Function definition\n",
        "\n",
        "def convert_my_weight_to_kg(weight): \n",
        "  \n",
        "  # We convert it to a float right before doing the calculation\n",
        "  convert_to_kg = float(weight) / 2.2 \n",
        "  print(convert_to_kg)   \n",
        "\n",
        "  # Rounding this off to two decimals \n",
        "  print(\"Rounded off to two decimals:\", end=' ')\n",
        "  print(round(convert_to_kg, 2))\n",
        "\n",
        "# Main  \n",
        "\n",
        "# Prompt the user for data \n",
        "weight_in_lb = input(\"Enter your weight in pounds: \")  \n",
        "\n",
        "# Call the function \n",
        "print(\"Your weight in kg is:\", end=' ')\n",
        "convert_my_weight_to_kg(weight_in_lb)"
      ],
      "execution_count": null,
      "outputs": [
        {
          "output_type": "stream",
          "text": [
            "Enter your weight in pounds: 10\n",
            "Your weight in kg is: 4.545454545454545\n",
            "Rounded off to two decimals: 4.55\n"
          ],
          "name": "stdout"
        }
      ]
    },
    {
      "cell_type": "code",
      "metadata": {
        "id": "fxbriHT8D-zl"
      },
      "source": [],
      "execution_count": null,
      "outputs": []
    }
  ]
}