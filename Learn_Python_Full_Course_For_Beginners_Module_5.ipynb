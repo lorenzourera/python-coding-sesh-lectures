{
  "nbformat": 4,
  "nbformat_minor": 0,
  "metadata": {
    "colab": {
      "provenance": []
    },
    "kernelspec": {
      "name": "python3",
      "display_name": "Python 3"
    }
  },
  "cells": [
    {
      "cell_type": "markdown",
      "metadata": {
        "id": "YCrbbPFx_vFP"
      },
      "source": [
        "# Review of Previous Exercise \n",
        "\n",
        "* Write a program that repeatedly reads numbers until he user enters \"done\" \n",
        "* Once \"done\" is entered, print out the total, count, and average of the number \n",
        "* if the user enters anything other than a number, detect their mistake using try and except and print an error message and skip to the next number"
      ]
    },
    {
      "cell_type": "markdown",
      "metadata": {
        "id": "AKfEOy-r_uvC"
      },
      "source": [
        " Using Lists\n"
      ]
    },
    {
      "cell_type": "code",
      "metadata": {
        "id": "v95MVpxYAhGy",
        "outputId": "19757c58-5d65-4786-faec-f3bc8c417e8a",
        "colab": {
          "base_uri": "https://localhost:8080/",
          "height": 140
        }
      },
      "source": [
        "num_list = [] \n",
        "\n",
        "total = 0\n",
        "count = 0 \n",
        "average = 0\n",
        "\n",
        "while True : \n",
        "\n",
        "\n",
        "  input_num = input(\"Enter a number:\")    \n",
        "  \n",
        "  if input_num == 'done': \n",
        "    break  \n",
        "  try : \n",
        "    float(input_num) \n",
        "  except:  \n",
        "    print(\"invalid input\")\n",
        "    continue \n",
        "\n",
        "  num_list.append(float(input_num)) \n",
        "\n",
        "# while loop is over \n",
        "\n",
        "\n",
        "for mica in num_list: \n",
        "  total = mica + total  \n",
        "\n",
        "for martina in num_list: \n",
        "  count = count + 1 \n",
        "\n",
        "average = total / count\n",
        "\n",
        "   \n",
        "\n",
        "print(num_list)\n",
        "print(\"Total:\", total) \n",
        "print(\"Count:\", total)  \n",
        "print(\"Average:\", average)\n",
        "\n"
      ],
      "execution_count": null,
      "outputs": [
        {
          "output_type": "stream",
          "text": [
            "Enter a number:1\n",
            "Enter a number:2\n",
            "Enter a number:done\n",
            "[1.0, 2.0]\n",
            "Total: 3.0\n",
            "Count: 3.0\n",
            "Average: 1.5\n"
          ],
          "name": "stdout"
        }
      ]
    },
    {
      "cell_type": "markdown",
      "metadata": {
        "id": "mmrtR6SgA1Qa"
      },
      "source": [
        "Write a program that does the same, except gets the maximum and minimum instead of the average"
      ]
    },
    {
      "cell_type": "code",
      "metadata": {
        "id": "K4car_MZBGV_"
      },
      "source": [
        "\n",
        "num_list = [] \n",
        "\n",
        "total = 0\n",
        "count = 0 \n",
        "largest = None \n",
        "smallest = None\n",
        "while True : \n",
        "\n",
        "\n",
        "  input_num = input(\"Enter a number:\")    \n",
        "  \n",
        "  if input_num == 'done': \n",
        "    break  \n",
        "  try : \n",
        "    float(input_num) \n",
        "  except:  \n",
        "    print(\"invalid input\")\n",
        "    continue \n",
        "\n",
        "  num_list.append(float(input_num)) \n",
        "\n",
        "\n",
        "for num in num_list: \n",
        "  total = num + total  \n",
        "\n",
        "for num in num_list: \n",
        "  count = count + 1 \n",
        "\n",
        "for num in num_list: \n",
        "\n",
        "  if smallest is None or num < smallest: \n",
        "    smallest = num \n",
        "  \n",
        "for num in num_list: \n",
        "\n",
        "  if largest is None or num > largest: \n",
        "    largest = num \n",
        "  \n",
        "   \n",
        "\n",
        "print(num_list)\n",
        "print(\"Total:\", total) \n",
        "print(\"Count:\", total)  \n",
        "print(\"Largest is:\" , largest) \n",
        "print(\"Smallest is:\", smallest)\n",
        "\n"
      ],
      "execution_count": null,
      "outputs": []
    },
    {
      "cell_type": "markdown",
      "metadata": {
        "id": "D2V-oZaRBSHq"
      },
      "source": [
        "# Exercise for Today \n",
        "\n"
      ]
    },
    {
      "cell_type": "markdown",
      "metadata": {
        "id": "_QrnGUbQ9m07"
      },
      "source": [
        "Brief Description:  \n",
        "* Create a program that will prompt a user to enter __ANY__ number distinct item names, prices and quantities. (Hint: Infinite Loops)\n",
        "* At any point in time, the program should end if the user inputs the string \"__done__\". \n",
        "* Once a user inputs \"__done__\", print the message \"You are done inputting Items\" and proceed to the next step. \n",
        "* Next, allow the user to query one item name, based on what was previously inputted, and display the item's price, qty available, and total value in inventory (function: price x qty). The user should be able to enter the item name in __LOWERCASE__, and it should return the item information regardless of whether the input was in upper or lowercase\n",
        "* Lastly, display the total value on hand of the item. \n",
        "* If an item is not in the list, print the message 'The list data is incomplete!'  \n",
        "\n",
        "Note: \n",
        "* If I input the item name \"Orange\", then the program proceeds to ask for the  item price and I input \"done\", \"Orange\" should not be in the item list. Only items with complete info (name, price, qty) should be able to be accessed by the user.\n",
        "\n",
        "Concepts to be used: \n",
        "* function definitions \n",
        "* looping  \n",
        "* lists and list functions\n",
        "* error handling (haha cant give this away) \n"
      ]
    },
    {
      "cell_type": "code",
      "metadata": {
        "id": "_S_IsVl95Kgl",
        "outputId": "d1a1c02a-231b-4f00-b1b5-5dfa9fff8ea7",
        "colab": {
          "base_uri": "https://localhost:8080/",
          "height": 191
        }
      },
      "source": [
        "# Declarations \n",
        "item_names = list() \n",
        "item_prices = list() \n",
        "item_qtys = list() \n",
        "\n",
        "# Define Compute Total Value Function \n",
        "def compute_total_value(qty,price,name):\n",
        "    total_value = float(qty) * float(price)\n",
        "    print(f\"The Total Value of item {name} is \", total_value) \n",
        "\n",
        "\n",
        "# Initialize Loop Count \n",
        "count = 1 \n",
        "\n",
        "# Infinite Loop \n",
        "while True: \n",
        "  item_name = input(f\"Please enter the name of item #{count}: \")  \n",
        "  \n",
        "  \n",
        "  if item_name == 'done':  \n",
        "    break\n",
        "  \n",
        "  item_names.append(item_name.lower())  \n",
        "\n",
        "\n",
        "  item_price = input(f\"Please enter the price of item #{count}: \") \n",
        " \n",
        "  if item_price == 'done':  \n",
        "    item_names.pop()\n",
        "    break \n",
        "  \n",
        "  item_prices.append(item_price) \n",
        "  \n",
        "  item_qty = input(f\"Please enter the qty available of item #{count}: \")\n",
        "  \n",
        "  if item_qty == 'done':  \n",
        "    item_names.pop() \n",
        "    item_prices.pop()\n",
        "    break\n",
        "  \n",
        "  item_qtys.append(item_qty)\n",
        " \n",
        "  count += 1  \n",
        "  \n",
        "\n",
        "print('You are done inputting items')  \n",
        "#print(item_names) \n",
        "#print(item_prices) \n",
        "#print(item_qtys)\n",
        "\n",
        "user_query1 = input('Please enter the name of the item you want to query: ')\n",
        "print(\"The Item Name is: \", user_query1)  \n",
        "\n",
        "\n",
        "try: \n",
        "  index_of_query = item_names.index(user_query1.lower())\n",
        "  # Check the index of user_query1 to use for price and qty\n",
        "  print(\"The Item Price is: \", item_prices[index_of_query])\n",
        "  print(\"The Item Quantity is: \", item_qtys[index_of_query])\n",
        "\n",
        "  compute_total_value(item_prices[index_of_query], item_qtys[index_of_query], user_query1) \n",
        "\n",
        "except: \n",
        "  print(\"The list data is incomplete!\")\n",
        "\n"
      ],
      "execution_count": null,
      "outputs": [
        {
          "output_type": "stream",
          "text": [
            "Please enter the name of item #1: APPLE\n",
            "Please enter the price of item #1: 10\n",
            "Please enter the qty available of item #1: 2\n",
            "Please enter the name of item #2: done\n",
            "You are done inputting items\n",
            "Please enter the name of the item you want to query: apple\n",
            "The Item Name is:  apple\n",
            "The Item Price is:  10\n",
            "The Item Quantity is:  2\n",
            "The Total Value of item apple is  20.0\n"
          ],
          "name": "stdout"
        }
      ]
    },
    {
      "cell_type": "markdown",
      "metadata": {
        "id": "rl8lnFhP-Co9"
      },
      "source": [
        "## Alternative Code by Miel"
      ]
    },
    {
      "cell_type": "code",
      "metadata": {
        "id": "29bXWOxf-GQr",
        "outputId": "257ac6c6-1bfe-4202-b240-158ba1f8bf39",
        "colab": {
          "base_uri": "https://localhost:8080/",
          "height": 308
        }
      },
      "source": [
        "items_list = list()\n",
        "price_list = list()\n",
        "qty_list = list()\n",
        "\n",
        "def total_value(lower_query, price, qty):\n",
        "    total_amount = float(price) * float(qty)\n",
        "    print(f'The total value of item {query} is {total_amount}.')\n",
        "\n",
        "item_count = 1\n",
        "price_count = 1\n",
        "qty_count = 1\n",
        "\n",
        "while True:\n",
        "  item = input(f\"Please enter the name of item #{item_count}: \")\n",
        "\n",
        "  if item == 'done':\n",
        "    print('You are done inputting items.')\n",
        "    break\n",
        "\n",
        "  price = input(f\"Please enter the price of item #{price_count}: \")\n",
        "\n",
        "  if price == 'done':\n",
        "    print('You are done inputting items.')\n",
        "    break\n",
        "\n",
        "    try:\n",
        "        price = float(price)\n",
        "\n",
        "    except:\n",
        "        print('Please enter a number.')\n",
        "        continue\n",
        "\n",
        "  qty = input(f\"Please enter the qty of item #{qty_count}: \")\n",
        "\n",
        "  if qty == 'done':\n",
        "    print('You are done inputting items.')\n",
        "    break\n",
        "\n",
        "  try:\n",
        "      qty = float(qty)\n",
        "\n",
        "  except:\n",
        "      print('Please enter a number.')\n",
        "      continue\n",
        "\n",
        "  items_list.append(item.lower())\n",
        "  price_list.append(price)\n",
        "  qty_list.append(qty)\n",
        "\n",
        "  item_count += 1\n",
        "  price_count += 1\n",
        "  qty_count += 1\n",
        "\n",
        "query = input('Please enter the name of the item you want to query: ')\n",
        "lower_query = query.lower()\n",
        "print(f\"The item name is: {lower_query}.\")\n",
        "\n",
        "try:\n",
        "    print(f'The item price is {price_list[items_list.index(lower_query)]}.')\n",
        "except:\n",
        "    print(\"The list data is incomplete!\")\n",
        "    quit()\n",
        "\n",
        "try:\n",
        "    print(f'The item quantity is {qty_list[items_list.index(lower_query)]}.')\n",
        "except:\n",
        "    print(\"The list data is incomplete!\")\n",
        "    quit()\n",
        "\n",
        "total_value(lower_query, price_list[items_list.index(lower_query)], qty_list[items_list.index(lower_query)])\n"
      ],
      "execution_count": null,
      "outputs": [
        {
          "output_type": "stream",
          "text": [
            "Please enter the name of item #1: done\n",
            "You are done inputting items.\n",
            "Please enter the name of the item you want to query: apple\n",
            "The item name is: apple.\n",
            "The list data is incomplete!\n",
            "The list data is incomplete!\n"
          ],
          "name": "stdout"
        },
        {
          "output_type": "error",
          "ename": "ValueError",
          "evalue": "ignored",
          "traceback": [
            "\u001b[0;31m---------------------------------------------------------------------------\u001b[0m",
            "\u001b[0;31mValueError\u001b[0m                                Traceback (most recent call last)",
            "\u001b[0;32m<ipython-input-24-a4fc8a966f0d>\u001b[0m in \u001b[0;36m<module>\u001b[0;34m()\u001b[0m\n\u001b[1;32m     68\u001b[0m     \u001b[0mquit\u001b[0m\u001b[0;34m(\u001b[0m\u001b[0;34m)\u001b[0m\u001b[0;34m\u001b[0m\u001b[0;34m\u001b[0m\u001b[0m\n\u001b[1;32m     69\u001b[0m \u001b[0;34m\u001b[0m\u001b[0m\n\u001b[0;32m---> 70\u001b[0;31m \u001b[0mtotal_value\u001b[0m\u001b[0;34m(\u001b[0m\u001b[0mlower_query\u001b[0m\u001b[0;34m,\u001b[0m \u001b[0mprice_list\u001b[0m\u001b[0;34m[\u001b[0m\u001b[0mitems_list\u001b[0m\u001b[0;34m.\u001b[0m\u001b[0mindex\u001b[0m\u001b[0;34m(\u001b[0m\u001b[0mlower_query\u001b[0m\u001b[0;34m)\u001b[0m\u001b[0;34m]\u001b[0m\u001b[0;34m,\u001b[0m \u001b[0mqty_list\u001b[0m\u001b[0;34m[\u001b[0m\u001b[0mitems_list\u001b[0m\u001b[0;34m.\u001b[0m\u001b[0mindex\u001b[0m\u001b[0;34m(\u001b[0m\u001b[0mlower_query\u001b[0m\u001b[0;34m)\u001b[0m\u001b[0;34m]\u001b[0m\u001b[0;34m)\u001b[0m\u001b[0;34m\u001b[0m\u001b[0;34m\u001b[0m\u001b[0m\n\u001b[0m",
            "\u001b[0;31mValueError\u001b[0m: 'apple' is not in list"
          ]
        }
      ]
    },
    {
      "cell_type": "markdown",
      "metadata": {
        "id": "33JaUeaG8t2D"
      },
      "source": [
        "# Learn Python - Full Course for Beginners \n",
        "\n",
        "### References \n",
        "* W3schools Dictionaries: https://www.w3schools.com/python/python_dictionaries.asp \n",
        "* Corey Schafer Tutorial: https://www.youtube.com/watch?v=daefaLgNkw0 \n",
        "* Dictionary .get() method: https://www.w3schools.com/python/ref_dictionary_get.asp \n",
        "* Dictionary .update() method: https://www.w3schools.com/python/ref_dictionary_update.asp \n",
        "* Other dictionary methods: https://www.w3schools.com/python/python_ref_dictionary.asp\n",
        "\n",
        "\n",
        "### Module 5\n",
        "* Dictionaries\n",
        "\n"
      ]
    },
    {
      "cell_type": "markdown",
      "metadata": {
        "id": "UC7lke_K7eGO"
      },
      "source": [
        "## 5.1 Dictionaries"
      ]
    },
    {
      "cell_type": "markdown",
      "metadata": {
        "id": "0oXtLarz9t_P"
      },
      "source": [
        "* A dictionary is like a list, but more general. In a list, the index positions have to be integers; in a dictionary, the indices can be (almost) any type.  \n",
        "\n",
        "* You can think of a dictionary as a mappingbetween a set of indices (which are called __keys__) and a set of values.  \n",
        "\n",
        "* Each key maps to a value. The association of a key and a value is called a _key-value_ pair or sometimes an _item_\n",
        "\n"
      ]
    },
    {
      "cell_type": "markdown",
      "metadata": {
        "id": "kLG7zrYZ94tU"
      },
      "source": [
        "### Example 1 \n",
        "\n",
        "Let us a build a dictionary that maps from English to Spanish words, such that the keys and values are all strings."
      ]
    },
    {
      "cell_type": "markdown",
      "metadata": {
        "id": "CHBW9VFO-bUb"
      },
      "source": [
        "\n",
        "\n",
        "To add items to the dictionary, you can use square brackets:"
      ]
    },
    {
      "cell_type": "code",
      "metadata": {
        "id": "R2gDb8PA-Trh",
        "outputId": "5cb91150-c2c2-4e02-ea40-b6cce461e027",
        "colab": {
          "base_uri": "https://localhost:8080/",
          "height": 52
        }
      },
      "source": [
        "# We declare a variable as a dictionary \n",
        "eng2sp = dict()  \n",
        "print(eng2sp) \n",
        "\n",
        "eng2sp2 = {} \n",
        "print(eng2sp)"
      ],
      "execution_count": null,
      "outputs": [
        {
          "output_type": "stream",
          "text": [
            "{}\n",
            "{}\n"
          ],
          "name": "stdout"
        }
      ]
    },
    {
      "cell_type": "markdown",
      "metadata": {
        "id": "mSfsfZ4D-prN"
      },
      "source": [
        "This code above creates an item that maps from the key 'one' to the value 'uno'. "
      ]
    },
    {
      "cell_type": "code",
      "metadata": {
        "id": "91lwcym8-hkW",
        "outputId": "9539c321-0610-4b5e-ce98-b1f68fbd13ef",
        "colab": {
          "base_uri": "https://localhost:8080/",
          "height": 34
        }
      },
      "source": [
        "eng2sp['one'] = 'uno' \n",
        "print(eng2sp)"
      ],
      "execution_count": null,
      "outputs": [
        {
          "output_type": "stream",
          "text": [
            "{'one': 'uno'}\n"
          ],
          "name": "stdout"
        }
      ]
    },
    {
      "cell_type": "markdown",
      "metadata": {
        "id": "zwfWX6gs-1e2"
      },
      "source": [
        "Let us redefine the dictionary _eng2sp_ and give it 3 items"
      ]
    },
    {
      "cell_type": "code",
      "metadata": {
        "id": "Ejguiryt_MP2",
        "outputId": "51d8b133-d718-4a4d-8183-30c9056dfcd0",
        "colab": {
          "base_uri": "https://localhost:8080/",
          "height": 52
        }
      },
      "source": [
        "eng2sp = {'one':'uno', 'two':'dos', 'three':'tres'} \n",
        "print(eng2sp) \n",
        "\n",
        "\n",
        "\n",
        "fruits = {1:'apple', 2:'orange', 3:'grape'} \n",
        "print(fruits)"
      ],
      "execution_count": null,
      "outputs": [
        {
          "output_type": "stream",
          "text": [
            "{'one': 'uno', 'two': 'dos', 'three': 'tres'}\n",
            "{1: 'apple', 2: 'orange', 3: 'grape'}\n"
          ],
          "name": "stdout"
        }
      ]
    },
    {
      "cell_type": "markdown",
      "metadata": {
        "id": "TDH65SzP_gAE"
      },
      "source": [
        "In lists, we refer to an _item_ or _element_ by their index, but in dicionaries, we refer to them by their _key_"
      ]
    },
    {
      "cell_type": "code",
      "metadata": {
        "id": "AXbdk6IR_v2t",
        "outputId": "187d8e40-704e-49b7-f32a-46ca6b629989",
        "colab": {
          "base_uri": "https://localhost:8080/",
          "height": 52
        }
      },
      "source": [
        "# In lists  \n",
        "sample_list = ['happy', 'new', 'year']  \n",
        "\n",
        "# Let's print out the string 'happy'\n",
        "print(sample_list[0]) \n",
        "\n",
        "sample_dictionary = {'abc':'year', 'def':'new', 'ghi':'happy'} \n",
        "print(sample_dictionary['ghi'])"
      ],
      "execution_count": null,
      "outputs": [
        {
          "output_type": "stream",
          "text": [
            "happy\n",
            "happy\n"
          ],
          "name": "stdout"
        }
      ]
    },
    {
      "cell_type": "markdown",
      "metadata": {
        "id": "C0a4s49o_44_"
      },
      "source": [
        "In the list __sample_list__ , we can refer to _happy_ by calling on the index __0__. In dictionaries, order does not matter. As seen above, the __happy__ value or item, is mapped to the key __ghi__. In order to call __happy__, we must refer to its key __ghi__"
      ]
    },
    {
      "cell_type": "markdown",
      "metadata": {
        "id": "054f2vy3Apl5"
      },
      "source": [
        "Going back to our previous example"
      ]
    },
    {
      "cell_type": "code",
      "metadata": {
        "id": "c2dlc92zA9bG",
        "outputId": "ede73e7b-d4bf-4330-b7d5-d7e61566f5bf",
        "colab": {
          "base_uri": "https://localhost:8080/",
          "height": 69
        }
      },
      "source": [
        "eng2sp = {'one':'uno', 'two':'dos', 'three':'tres'} \n",
        "\n",
        "\n",
        "# Printing out three in spanish \n",
        "print(eng2sp['three']) \n",
        "\n",
        "# Printing out two in spanish \n",
        "print(eng2sp['two']) \n",
        "\n",
        "# Printing out one in spanish \n",
        "print(eng2sp['one']) \n"
      ],
      "execution_count": null,
      "outputs": [
        {
          "output_type": "stream",
          "text": [
            "tres\n",
            "dos\n",
            "uno\n"
          ],
          "name": "stdout"
        }
      ]
    },
    {
      "cell_type": "markdown",
      "metadata": {
        "id": "iq1kH-NkBEOj"
      },
      "source": [
        "Remember the __len()__ function we used before? We can use it to return the number of key-value pairs in a dictionary"
      ]
    },
    {
      "cell_type": "code",
      "metadata": {
        "id": "-Ryl1TkcBXFi",
        "outputId": "60f25666-6289-4f9f-ade9-9e682fb14043",
        "colab": {
          "base_uri": "https://localhost:8080/",
          "height": 34
        }
      },
      "source": [
        "print(len(eng2sp))"
      ],
      "execution_count": null,
      "outputs": [
        {
          "output_type": "stream",
          "text": [
            "3\n"
          ],
          "name": "stdout"
        }
      ]
    },
    {
      "cell_type": "markdown",
      "metadata": {
        "id": "E9soHllHo-5v"
      },
      "source": [
        "## Example 2"
      ]
    },
    {
      "cell_type": "markdown",
      "metadata": {
        "id": "DCBpDo-rpP2w"
      },
      "source": [
        "The values in a dictionary can be any data type (e.g numbers, strings, and even lists)"
      ]
    },
    {
      "cell_type": "code",
      "metadata": {
        "id": "9xa9nbBepBI9",
        "outputId": "2b1e43c7-611f-4d0f-db6b-d7e0a637c6d8",
        "colab": {
          "base_uri": "https://localhost:8080/",
          "height": 105
        }
      },
      "source": [
        "# Creating a dictionary \n",
        "\n",
        "student = {'name':'john', 'age':25, 'courses':['Math', 'CompSci']} \n",
        "\n",
        "# printing the name \n",
        "print(student['name'])  \n",
        "\n",
        "# printing the age \n",
        "print(student['age'])\n",
        "\n",
        "# printing the courses \n",
        "print(student['courses']) \n",
        "\n",
        "# print the first course \n",
        "print(student['courses'][0]) \n",
        "\n",
        "# printing the second course \n",
        "print(student['courses'][1])\n"
      ],
      "execution_count": null,
      "outputs": [
        {
          "output_type": "stream",
          "text": [
            "john\n",
            "25\n",
            "['Math', 'CompSci']\n",
            "Math\n",
            "CompSci\n"
          ],
          "name": "stdout"
        }
      ]
    },
    {
      "cell_type": "code",
      "metadata": {
        "id": "IXhtmlo_Btof",
        "outputId": "3ee9d5e8-53e2-4bed-8517-09513b2da066",
        "colab": {
          "base_uri": "https://localhost:8080/",
          "height": 34
        }
      },
      "source": [
        "student = {'name':'john', 'age':25, 'courses':['Math', 'CompSci', ['hello','there']]} \n",
        "\n",
        "print(student['courses'][2][1])"
      ],
      "execution_count": null,
      "outputs": [
        {
          "output_type": "stream",
          "text": [
            "there\n"
          ],
          "name": "stdout"
        }
      ]
    },
    {
      "cell_type": "markdown",
      "metadata": {
        "id": "jK5chBhFrO5z"
      },
      "source": [
        "\n",
        "\n",
        " Create a dictionary where the keys are numbers 1 - 5, and the corresponding values are the numbers in string/word form. "
      ]
    },
    {
      "cell_type": "code",
      "metadata": {
        "id": "LkM58zK0rgxO",
        "outputId": "a1588f9a-58a9-4a18-f886-2acdd5e0a6f7",
        "colab": {
          "base_uri": "https://localhost:8080/",
          "height": 34
        }
      },
      "source": [
        "# Creating the dictionary\n",
        "num_dict = {1:'one', 2:'two', 3:'three', 4:'four', 5:'five'}\n",
        "\n",
        "# Printing the dictionary\n",
        "print(num_dict)"
      ],
      "execution_count": null,
      "outputs": [
        {
          "output_type": "stream",
          "text": [
            "{1: 'one', 2: 'two', 3: 'three', 4: 'four', 5: 'five'}\n"
          ],
          "name": "stdout"
        }
      ]
    },
    {
      "cell_type": "markdown",
      "metadata": {
        "id": "_GWrwe9FsdxF"
      },
      "source": [
        "What happens if we try to access a __key__ that is not part of the dictionary?"
      ]
    },
    {
      "cell_type": "code",
      "metadata": {
        "id": "ll68IrYusi3z",
        "outputId": "d7104db0-2fed-4d15-eed0-4d0a56e10adf",
        "colab": {
          "base_uri": "https://localhost:8080/",
          "height": 237
        }
      },
      "source": [
        "# Creating a dictionary \n",
        "student = {'name':'john', 'age':25, 'courses':['Math', 'CompSci']}  \n",
        "\n",
        "# trying to access a key that is not in the dictionary \n",
        "print(student['phone']) \n",
        "\n",
        "\n",
        "# some important \n",
        "print('hello')\n"
      ],
      "execution_count": null,
      "outputs": [
        {
          "output_type": "error",
          "ename": "KeyError",
          "evalue": "ignored",
          "traceback": [
            "\u001b[0;31m---------------------------------------------------------------------------\u001b[0m",
            "\u001b[0;31mKeyError\u001b[0m                                  Traceback (most recent call last)",
            "\u001b[0;32m<ipython-input-8-5eaf8ce5e8a7>\u001b[0m in \u001b[0;36m<module>\u001b[0;34m()\u001b[0m\n\u001b[1;32m      3\u001b[0m \u001b[0;34m\u001b[0m\u001b[0m\n\u001b[1;32m      4\u001b[0m \u001b[0;31m# trying to access a key that is not in the dictionary\u001b[0m\u001b[0;34m\u001b[0m\u001b[0;34m\u001b[0m\u001b[0;34m\u001b[0m\u001b[0m\n\u001b[0;32m----> 5\u001b[0;31m \u001b[0mprint\u001b[0m\u001b[0;34m(\u001b[0m\u001b[0mstudent\u001b[0m\u001b[0;34m[\u001b[0m\u001b[0;34m'phone'\u001b[0m\u001b[0;34m]\u001b[0m\u001b[0;34m)\u001b[0m\u001b[0;34m\u001b[0m\u001b[0;34m\u001b[0m\u001b[0m\n\u001b[0m\u001b[1;32m      6\u001b[0m \u001b[0;34m\u001b[0m\u001b[0m\n\u001b[1;32m      7\u001b[0m \u001b[0;34m\u001b[0m\u001b[0m\n",
            "\u001b[0;31mKeyError\u001b[0m: 'phone'"
          ]
        }
      ]
    },
    {
      "cell_type": "markdown",
      "metadata": {
        "id": "fbdONzs-s0gi"
      },
      "source": [
        "When you try to access a key that does not exist, you will encounter an error. Sometimes, encountering an error may not be desirable. Sometimes, we want to return 'None' or some default value. We can do this using the __get()__ method of dictionaries. "
      ]
    },
    {
      "cell_type": "markdown",
      "metadata": {
        "id": "-rdltMOVe9ih"
      },
      "source": [
        "## Dictionary Methods"
      ]
    },
    {
      "cell_type": "markdown",
      "metadata": {
        "id": "1tK5HXtAtHrD"
      },
      "source": [
        "### Retrieving Items from a Dictionary using .get() Method  \n",
        "\n",
        "Syntax: \n",
        "dictionary.get(_keyname_, _value when the key does not exist_)\n",
        "\n",
        "Reference: https://www.w3schools.com/python/ref_dictionary_get.asp"
      ]
    },
    {
      "cell_type": "code",
      "metadata": {
        "id": "z0lMtnK6tLgQ",
        "outputId": "c6441f3f-4a18-426e-fd31-77083adccdcc",
        "colab": {
          "base_uri": "https://localhost:8080/",
          "height": 69
        }
      },
      "source": [
        "# Creating a dictionary \n",
        "student = {'name':'john', 'age':25, 'courses':['Math', 'CompSci']}  \n",
        "\n",
        "# Testing the .get() method on a key that exists in the dict\n",
        "print(student.get('name')) \n",
        "\n",
        "# Testing the .get() method on a key that does not exist in the dict\n",
        "print(student.get('phone')) \n",
        "\n",
        "print(\"something\")"
      ],
      "execution_count": null,
      "outputs": [
        {
          "output_type": "stream",
          "text": [
            "john\n",
            "None\n",
            "something\n"
          ],
          "name": "stdout"
        }
      ]
    },
    {
      "cell_type": "markdown",
      "metadata": {
        "id": "CPerhx4qtcf_"
      },
      "source": [
        "By default, the get method returns the word 'None' when the key being accessed does not exist. We can specify a second argument to assign a value when a key that does not exist in a dictionary is retrieved by the get() method."
      ]
    },
    {
      "cell_type": "code",
      "metadata": {
        "id": "qID6884xuc7G",
        "outputId": "497d2dc1-fff3-464d-f177-20e85dad21c4",
        "colab": {
          "base_uri": "https://localhost:8080/",
          "height": 34
        }
      },
      "source": [
        "# Creating a dictionary \n",
        "student = {'name':'john', 'age':25, 'courses':['Math', 'CompSci']}   \n",
        "\n",
        "# Testing the .get() method on a key that does not exist in the dict\n",
        "print(student.get('phone', 'Not found'))"
      ],
      "execution_count": null,
      "outputs": [
        {
          "output_type": "stream",
          "text": [
            "Not found\n"
          ],
          "name": "stdout"
        }
      ]
    },
    {
      "cell_type": "code",
      "metadata": {
        "id": "9EwVUHOHvFaw",
        "outputId": "dc86da92-963f-4d3f-d722-a6df5b675972",
        "colab": {
          "base_uri": "https://localhost:8080/",
          "height": 52
        }
      },
      "source": [
        "# Creating a dictionary \n",
        "student = {'name':'john', 'age':25, 'courses':['Math', 'CompSci']}    \n",
        "\n",
        "# Adding an item to a dictionary\n",
        "student['phone'] = '86236' \n",
        "\n",
        "# Printing the phone number \n",
        "print(student['phone'])\n",
        "\n",
        "# Printing the phone number using get method\n",
        "print(student.get('phone', 'Not found'))"
      ],
      "execution_count": null,
      "outputs": [
        {
          "output_type": "stream",
          "text": [
            "86236\n",
            "86236\n"
          ],
          "name": "stdout"
        }
      ]
    },
    {
      "cell_type": "code",
      "metadata": {
        "id": "Zvky2RIDvlmX",
        "outputId": "23876520-6bc7-489d-f68e-f7620b78dfa2",
        "colab": {
          "base_uri": "https://localhost:8080/",
          "height": 52
        }
      },
      "source": [
        "# Creating a dictionary \n",
        "student = {'name':'john', 'age':25, 'courses':['Math', 'CompSci']}    \n",
        "\n",
        "# Adding an item to a dictionary\n",
        "student['phone'] = '86236' \n",
        "\n",
        "# Printing the phone number \n",
        "print(student)\n",
        "\n",
        "student['phone'] = '87000' \n",
        "print(student)"
      ],
      "execution_count": null,
      "outputs": [
        {
          "output_type": "stream",
          "text": [
            "{'name': 'john', 'age': 25, 'courses': ['Math', 'CompSci'], 'phone': '86236'}\n",
            "{'name': 'john', 'age': 25, 'courses': ['Math', 'CompSci'], 'phone': '87000'}\n"
          ],
          "name": "stdout"
        }
      ]
    },
    {
      "cell_type": "markdown",
      "metadata": {
        "id": "N4E0Mj7gwHua"
      },
      "source": [
        "### Adding or updating dictionary elements using .update() Method  \n",
        "\n",
        "The update method allows to to update a value of existing key/s or add multiple new key-value pairs\n",
        "\n",
        "Syntax  \n",
        "dictionaryname.update(_key-value/s_) to be updated\n",
        "\n",
        "Reference: https://www.w3schools.com/python/ref_dictionary_update.asp"
      ]
    },
    {
      "cell_type": "markdown",
      "metadata": {
        "id": "qfJ2-u_5u-bO"
      },
      "source": [
        "Adding items to a dictionary \n"
      ]
    },
    {
      "cell_type": "code",
      "metadata": {
        "id": "uugwLfzKwkDh",
        "outputId": "4ca119ea-dede-4672-8f43-830d3424fc5d",
        "colab": {
          "base_uri": "https://localhost:8080/",
          "height": 34
        }
      },
      "source": [
        "car = {\n",
        "  \"brand\": \"Ford\",\n",
        "  \"model\": \"Mustang\",\n",
        "  \"year\": 1964\n",
        "}\n",
        "\n",
        "# Adding a new key-value pair 'color':'white'\n",
        "car.update({'color': \"White\", 'fuel-type':'petrol'}) \n",
        "\n",
        "# Updating the brand\n",
        "car.update({\"brand\": \"Honda\"})\n",
        "print(car)"
      ],
      "execution_count": null,
      "outputs": [
        {
          "output_type": "stream",
          "text": [
            "{'brand': 'Honda', 'model': 'Mustang', 'year': 1964, 'color': 'White', 'fuel-type': 'petrol'}\n"
          ],
          "name": "stdout"
        }
      ]
    },
    {
      "cell_type": "markdown",
      "metadata": {
        "id": "cC80wh-tsUaj"
      },
      "source": [
        "### Deleting all items in a dictionary using .clear() method \n",
        "\n",
        "The __.clear()__ method deletes all items in a dictionary  \n",
        "\n",
        "Syntax: \n",
        "\n",
        "_dictionaryname.clear()_"
      ]
    },
    {
      "cell_type": "code",
      "metadata": {
        "id": "fV8ckz30sssY",
        "outputId": "554186ba-64d5-4d75-dc55-462408305571",
        "colab": {
          "base_uri": "https://localhost:8080/",
          "height": 52
        }
      },
      "source": [
        "eng2sp = {'one':'uno', 'two':'dos', 'three':'tres'}  \n",
        "\n",
        "print(eng2sp) \n",
        "\n",
        "eng2sp.clear() \n",
        "\n",
        "print(eng2sp)"
      ],
      "execution_count": null,
      "outputs": [
        {
          "output_type": "stream",
          "text": [
            "{'one': 'uno', 'two': 'dos', 'three': 'tres'}\n",
            "{}\n"
          ],
          "name": "stdout"
        }
      ]
    },
    {
      "cell_type": "markdown",
      "metadata": {
        "id": "nzRfYR0ss672"
      },
      "source": [
        "### Copying items in a dictionary and storing into another using the .copy() method"
      ]
    },
    {
      "cell_type": "code",
      "metadata": {
        "id": "JEUMwUQStEgc",
        "outputId": "0dee944c-7c18-4aae-fe36-a0a9831a586f",
        "colab": {
          "base_uri": "https://localhost:8080/",
          "height": 34
        }
      },
      "source": [
        "# Dictionary 1\n",
        "eng2sp = {'one':'uno', 'two':'dos', 'three':'tres'}    \n",
        "\n",
        "# Dictionary 2 (Copy of Dictionary 1) \n",
        "eng2sp2 = eng2sp.copy() \n",
        "\n",
        "print(eng2sp2)\n",
        "\n"
      ],
      "execution_count": null,
      "outputs": [
        {
          "output_type": "stream",
          "text": [
            "{'one': 'uno', 'two': 'dos', 'three': 'tres'}\n"
          ],
          "name": "stdout"
        }
      ]
    },
    {
      "cell_type": "markdown",
      "metadata": {
        "id": "ZvY0YiojwHhe"
      },
      "source": [
        "## Retrieving all item keys using .keys() method \n",
        "\n",
        "The __.keys()__ method will return a list that contains all keys in a dictionary \n",
        "\n",
        "Syntax: \n",
        "\n",
        "_dictionaryname.key()_"
      ]
    },
    {
      "cell_type": "code",
      "metadata": {
        "id": "tWSCRbiSwH9M",
        "outputId": "aa21b245-4115-480f-e807-65c30f3d302c",
        "colab": {
          "base_uri": "https://localhost:8080/",
          "height": 34
        }
      },
      "source": [
        "# Dictionary\n",
        "eng2sp = {'one':'uno', 'two':'dos', 'three':'tres'}    \n",
        "\n",
        "print(eng2sp.keys())\n",
        "\n"
      ],
      "execution_count": null,
      "outputs": [
        {
          "output_type": "stream",
          "text": [
            "dict_keys(['one', 'two', 'three'])\n"
          ],
          "name": "stdout"
        }
      ]
    },
    {
      "cell_type": "markdown",
      "metadata": {
        "id": "8QDe9HzpwolO"
      },
      "source": [
        "## Deleting a key-value pair from a list using .pop() method \n",
        "\n",
        "The __pop()__ method will delete a specified key-value pair from a dictionary depending on the specified key \n",
        "\n",
        "Syntax: \n",
        "_dictionaryname.pop()_\n"
      ]
    },
    {
      "cell_type": "code",
      "metadata": {
        "id": "WaquTriAw71u",
        "outputId": "bf0d8ecb-559b-4ef8-86b7-1c64d91a058a",
        "colab": {
          "base_uri": "https://localhost:8080/",
          "height": 34
        }
      },
      "source": [
        "# Dictionary\n",
        "eng2sp = {'one':'uno', 'two':'dos', 'three':'tres'}    \n",
        "\n",
        "eng2sp.pop('one') \n",
        "\n",
        "print(eng2sp)"
      ],
      "execution_count": null,
      "outputs": [
        {
          "output_type": "stream",
          "text": [
            "{'two': 'dos', 'three': 'tres'}\n"
          ],
          "name": "stdout"
        }
      ]
    },
    {
      "cell_type": "markdown",
      "metadata": {
        "id": "dKiPi2rbxQ6_"
      },
      "source": [
        "We can also store the value of the key that we \"pop\" into another variable"
      ]
    },
    {
      "cell_type": "code",
      "metadata": {
        "id": "R6k6qBZxxXyR",
        "outputId": "60f4b225-19c8-455f-e2e6-b204d79eb2d2",
        "colab": {
          "base_uri": "https://localhost:8080/",
          "height": 52
        }
      },
      "source": [
        "# Dictionary\n",
        "eng2sp = {'one':'uno', 'two':'dos', 'three':'tres'}    \n",
        "\n",
        "popped_item = eng2sp.pop('one') \n",
        "\n",
        "print(eng2sp) \n",
        "print('You just popped ', popped_item)"
      ],
      "execution_count": null,
      "outputs": [
        {
          "output_type": "stream",
          "text": [
            "{'two': 'dos', 'three': 'tres'}\n",
            "You just popped  uno\n"
          ],
          "name": "stdout"
        }
      ]
    },
    {
      "cell_type": "markdown",
      "metadata": {
        "id": "_VbKdPDZJQKk"
      },
      "source": [
        "### Reading a list of strings, and counting the words using dictionaries"
      ]
    },
    {
      "cell_type": "code",
      "metadata": {
        "id": "79l8KqiyECAU",
        "outputId": "e151362b-c1db-454d-a757-68452d7de2df",
        "colab": {
          "base_uri": "https://localhost:8080/",
          "height": 175
        }
      },
      "source": [
        "count_words_dict = dict()\n",
        "word_list = ['hello', 'hello', 'what', 'is','is', 'is', 'up','cheeseburger'] \n",
        "\n",
        "for word in word_list: \n",
        "  if word not in count_words_dict: \n",
        "    count_words_dict[word] = 1\n",
        "  else: \n",
        "    count_words_dict[word] += 1  \n",
        "  print(count_words_dict)\n"
      ],
      "execution_count": null,
      "outputs": [
        {
          "output_type": "stream",
          "text": [
            "{'hello': 1}\n",
            "{'hello': 2}\n",
            "{'hello': 2, 'what': 1}\n",
            "{'hello': 2, 'what': 1, 'is': 1}\n",
            "{'hello': 2, 'what': 1, 'is': 2}\n",
            "{'hello': 2, 'what': 1, 'is': 3}\n",
            "{'hello': 2, 'what': 1, 'is': 3, 'up': 1}\n",
            "{'hello': 2, 'what': 1, 'is': 3, 'up': 1, 'cheeseburger': 1}\n",
            "{'hello': 2, 'what': 1, 'is': 3, 'up': 1, 'cheeseburger': 1}\n"
          ],
          "name": "stdout"
        }
      ]
    },
    {
      "cell_type": "markdown",
      "metadata": {
        "id": "GiPbSoIEBY_i"
      },
      "source": [
        "### Reading a string and counting letters using dictionaries"
      ]
    },
    {
      "cell_type": "code",
      "metadata": {
        "id": "kYpvsMxtDpvB",
        "outputId": "890f2b50-1131-464a-dc3c-416e61113f9b",
        "colab": {
          "base_uri": "https://localhost:8080/",
          "height": 54
        }
      },
      "source": [
        "romeo = \"\"\" \n",
        "But soft what light through yonder window breaks\n",
        "It is the east and Juliet is the sun\n",
        "Arise fair sun and kill the envious moon\n",
        "Who is already sick and pale with grief \n",
        "\"\"\" \n",
        "\n",
        "# Declare counts as a dictionary \n",
        "counts = dict() \n",
        "\n",
        "words = romeo.split(' ')  \n",
        "for word in words: \n",
        "  if word not in counts: \n",
        "    counts[word] = 1 \n",
        "  else: \n",
        "    counts[word] +=1 \n",
        "\n",
        "print(counts)"
      ],
      "execution_count": null,
      "outputs": [
        {
          "output_type": "stream",
          "text": [
            "{'': 1, '\\nBut': 1, 'soft': 1, 'what': 1, 'light': 1, 'through': 1, 'yonder': 1, 'window': 1, 'breaks\\nIt': 1, 'is': 3, 'the': 3, 'east': 1, 'and': 3, 'Juliet': 1, 'sun\\nArise': 1, 'fair': 1, 'sun': 1, 'kill': 1, 'envious': 1, 'moon\\nWho': 1, 'already': 1, 'sick': 1, 'pale': 1, 'with': 1, 'grief': 1, '\\n': 1}\n"
          ],
          "name": "stdout"
        }
      ]
    },
    {
      "cell_type": "markdown",
      "metadata": {
        "id": "PXppy2LSetCd"
      },
      "source": [
        "## Looping Through Dictionaries"
      ]
    },
    {
      "cell_type": "code",
      "metadata": {
        "id": "Bi-1r4yJqD8d",
        "outputId": "35c47879-91b8-4300-894e-8990726f80b5",
        "colab": {
          "base_uri": "https://localhost:8080/",
          "height": 69
        }
      },
      "source": [
        "# Create a dictionary \n",
        "\n",
        "months = {'Jan':'January', 'Feb':'February', 'Mar':'March'} \n",
        "\n",
        "# using loops \n",
        "for k in months: \n",
        "  print(months[k]) \n",
        "\n",
        "# old way \n",
        "#print(months['Jan']) \n",
        "\n",
        "#print(months['Feb']) \n",
        "\n",
        "#print(months['Mar'])"
      ],
      "execution_count": null,
      "outputs": [
        {
          "output_type": "stream",
          "text": [
            "January\n",
            "February\n",
            "March\n"
          ],
          "name": "stdout"
        }
      ]
    },
    {
      "cell_type": "markdown",
      "metadata": {
        "id": "8CtbNAHnqWKq"
      },
      "source": [
        "We can also perform operations between dictionaries with loops"
      ]
    },
    {
      "cell_type": "code",
      "metadata": {
        "id": "57QoEklKqeJ-",
        "outputId": "8631d306-ed61-4cd1-a144-5882a8b3c9a8",
        "colab": {
          "base_uri": "https://localhost:8080/",
          "height": 87
        }
      },
      "source": [
        "item_inventory = {'Apple':2, 'Grape': 3, 'Orange': 1} \n",
        "item_prices = { 'Grape':10, 'Orange':9, 'Apple':12}\n",
        "\n",
        "\n",
        "total_value_of_all = 0 \n",
        "\n",
        "for k in item_inventory: \n",
        "  total_value_of_item = item_inventory[k] * item_prices[k]  \n",
        "  print(total_value_of_item)\n",
        "  total_value_of_all = total_value_of_item + total_value_of_all \n",
        "\n",
        "print(total_value_of_all)"
      ],
      "execution_count": null,
      "outputs": [
        {
          "output_type": "stream",
          "text": [
            "24\n",
            "30\n",
            "9\n",
            "63\n"
          ],
          "name": "stdout"
        }
      ]
    },
    {
      "cell_type": "markdown",
      "metadata": {
        "id": "q6H18OtfrKSa"
      },
      "source": [
        "Remember, unlike in lists, order does not matter in dictionaries, as we make use of key value pairs."
      ]
    },
    {
      "cell_type": "code",
      "metadata": {
        "id": "3ojXx7zfrW6_",
        "outputId": "51dee6d0-9f8f-4ee5-b06f-bc14a32ef88c",
        "colab": {
          "base_uri": "https://localhost:8080/",
          "height": 87
        }
      },
      "source": [
        "item_inventory = {'Apple':2, 'Grape': 3, 'Orange': 1} \n",
        "item_prices = {'Apple':12, 'Orange':9, 'Grape':10}\n",
        "\n",
        "\n",
        "total_value_of_all = 0 \n",
        "\n",
        "for k in item_inventory: \n",
        "  total_value_of_item = item_inventory[k] * item_prices[k]  \n",
        "  print(total_value_of_item)\n",
        "  total_value_of_all = total_value_of_item + total_value_of_all \n",
        "\n",
        "print(total_value_of_all)"
      ],
      "execution_count": null,
      "outputs": [
        {
          "output_type": "stream",
          "text": [
            "24\n",
            "30\n",
            "9\n",
            "63\n"
          ],
          "name": "stdout"
        }
      ]
    },
    {
      "cell_type": "markdown",
      "metadata": {
        "id": "sQA8F8jWv3ue"
      },
      "source": [
        "The previous codes looped through dictionaries through their keys, but what if we want to loop through b"
      ]
    },
    {
      "cell_type": "markdown",
      "metadata": {
        "id": "PSALK3VHrkt9"
      },
      "source": [
        "In the code above, the order in which the item values are computed follow the order in item_inventory, since that is what we are looping through. In every itreation through the dictionary __item_inventory__, we use the current key, to determine which value to use from the __item_prices__ dictionary"
      ]
    },
    {
      "cell_type": "markdown",
      "metadata": {
        "id": "EOnLjeHEJMtS"
      },
      "source": [
        "## Exercise 1 \n",
        "\n",
        "\n",
        "Create shopping cart program that allows a user to input an __option__ any number of times (hint: infinite loop). \n",
        "\n",
        "The following choices for input are the following: \n",
        "\n",
        "Enter 1 - an item is added to the shopping cart (name and quantity). If the item already exists in the shopping car, then the item qty will be updated to the most recent input. \n",
        "\n",
        "Enter 2 - an item is removed from the shopping cart, print out the removed item and print the remaining shopping cart \n",
        "\n",
        "Enter 3 - view the items in a shopping cart (keys only)  \n",
        "\n",
        "Enter 0 - the program ends \n"
      ]
    }
  ]
}